{
 "cells": [
  {
   "cell_type": "code",
   "execution_count": 1,
   "id": "1d20da32-1777-48ca-b862-38236e30f0e7",
   "metadata": {},
   "outputs": [
    {
     "name": "stdout",
     "output_type": "stream",
     "text": [
      "Requirement already satisfied: unidecode in /home/bosser/anaconda3/lib/python3.12/site-packages (1.3.8)\n",
      "Note: you may need to restart the kernel to use updated packages.\n"
     ]
    }
   ],
   "source": [
    "pip install unidecode"
   ]
  },
  {
   "cell_type": "code",
   "execution_count": 2,
   "id": "d8d7ec28-a607-4654-b8c8-5b27787b1cce",
   "metadata": {},
   "outputs": [],
   "source": [
    "import pandas as pd\n",
    "from sklearn.impute import KNNImputer\n",
    "from sklearn.preprocessing import LabelEncoder\n",
    "import numpy as np\n",
    "from sklearn.preprocessing import MinMaxScaler\n",
    "import mysql.connector\n",
    "from unidecode import unidecode"
   ]
  },
  {
   "cell_type": "code",
   "execution_count": 3,
   "id": "fc7fd1b0-3963-4b81-9039-d36f9fa8ee87",
   "metadata": {},
   "outputs": [
    {
     "name": "stderr",
     "output_type": "stream",
     "text": [
      "/tmp/ipykernel_28967/4129477080.py:22: UserWarning: pandas only supports SQLAlchemy connectable (engine/connection) or database string URI or sqlite3 DBAPI2 connection. Other DBAPI2 objects are not tested. Please consider using SQLAlchemy.\n",
      "  df_sql = pd.read_sql(query_numero, db)\n"
     ]
    }
   ],
   "source": [
    "database = \"ofertas_de_empleo\"\n",
    "db = mysql.connector.connect(host     = \"localhost\",\n",
    "                             user     = \"root\",\n",
    "                             password = \"Scarface\",\n",
    "                             database = database)\n",
    "\n",
    "query_numero = \"\"\"\n",
    "SELECT \n",
    "    o.id_oferta,\n",
    "    COUNT(DISTINCT tr.tec_id) AS num_tecnologias,\n",
    "    COUNT(DISTINCT hr.hab_id) AS num_habilidades\n",
    "FROM \n",
    "    ofertas o\n",
    "LEFT JOIN \n",
    "    tecnologias_relacion tr ON o.id_oferta = tr.id_oferta\n",
    "LEFT JOIN \n",
    "    habilidades_relacion hr ON o.id_oferta = hr.id_oferta\n",
    "GROUP BY \n",
    "    o.id_oferta;\n",
    "\"\"\"\n",
    "\n",
    "df_sql = pd.read_sql(query_numero, db)\n",
    "df_sql.to_csv(\"df_sql.csv\", index=False)\n"
   ]
  },
  {
   "cell_type": "code",
   "execution_count": 4,
   "id": "33f5a3d0-425e-4b57-8949-af3ee2e6315c",
   "metadata": {},
   "outputs": [],
   "source": [
    "df_sql.rename(columns={\"id_oferta\": \"id\"}, inplace=True)"
   ]
  },
  {
   "cell_type": "code",
   "execution_count": 5,
   "id": "cf242286-6f8a-4220-bf71-7d71655c23f3",
   "metadata": {},
   "outputs": [],
   "source": [
    "df_general = pd.read_csv(\"../ofertas_final.csv\")"
   ]
  },
  {
   "cell_type": "code",
   "execution_count": 6,
   "id": "5c44cf38-0597-449a-959d-7a51b2a86c72",
   "metadata": {},
   "outputs": [],
   "source": [
    "##pickle - encoder\n",
    "\n",
    "df_general_codificado = pd.DataFrame()\n",
    "df_general_codificado[\"id\"] = df_general[\"id\"]\n",
    "df_general_codificado[\"salario_media\"] = (df_general[\"salario_desde\"] + df_general[\"salario_hasta\"]) / 2\n",
    "df_general_codificado[\"variable\"] = df_general[\"variable\"].fillna(0)\n",
    "df_general_codificado[\"variable_booleano\"] = df_general_codificado[\"variable\"].apply(lambda x: 1 if x != 0 else 0)\n",
    "moda_vacaciones = df_general[\"vacaciones\"].mode()[0]\n",
    "df_general_codificado[\"vacaciones\"] = df_general[\"vacaciones\"].fillna(moda_vacaciones) \n",
    "df_general_codificado[\"teletrabajo\"] = df_general[\"teletrabajo\"].map({\"Presencial\": 0, \"Hibrido\": 1, \"Remoto\": 2})\n",
    "df_general_codificado[\"jornada_tipo\"] = df_general[\"jornada_tipo\"].map({\"Intensiva Mañana\": 0, \"Intensiva Tarde\": 1, \"Jornada Completa\": 2, \n",
    "                                                                \"Jornada Completa Flexible\": 3, \"Media Jornada\": 4, \"Por Horas\": 5, \"Turno Rotatorio\" : 6})\n",
    "\n",
    "categorias_funciones = {cat: i for i, cat in enumerate(df_general[\"funciones\"].dropna().unique())}\n",
    "df_general_codificado[\"funciones\"] = df_general[\"funciones\"].map(categorias_funciones)\n",
    "df_general_codificado[\"contrato_tipo\"] = df_general[\"contrato_tipo\"].map({\"Indefinido\": 0, \"Temporal\": 1, \"Obra o servicio\": 2,\n",
    "                                                                  \"Freelance/Autónomo\": 3, \"Prácticas\": 4, \"A determinar\": 5})\n",
    "df_general_codificado[\"nivel_profesional\"] = df_general[\"nivel_profesional\"].map({\"Administrador / Consejero\": 0, \"Director / Gerente\": 1, \n",
    "                                                                          \"Mando Intermedio\": 2, \"Especialista\": 3, \"Empleado\": 4, \"Prácticas / Beca\": 5})\n",
    "df_general_codificado[\"formacion_minima\"] = df_general[\"formacion_minima\"].map({\"Doctorado\": 0, \"Ingeniero Superior\": 1, \"Ingeniero Técnico\": 2, \"Licenciado\": 3, \n",
    "                                                                        \"Postgrado EEES (Máster)\": 4, \"Diplomado\": 5, \"FP2/Grado Superior\": 6, \n",
    "                                                                        \"Grado EEES (Bolonia)\": 7, \"Grado Medio\": 8, \"Bachillerato/COU\": 9, \n",
    "                                                                        \"E.S.O. (Educación Secundaria Obligatoria)\": 10, \"FP1\": 11, \"Sin estudios\": 12, \n",
    "                                                                        \"Otros títulos, certificaciones y carnets\": 13, \"Certificado de Profesionalidad\": 14, \n",
    "                                                                        \"Otra Formación Tecnológica\": 15})\n",
    "\n",
    "df_general_codificado[\"personas_a_cargo\"] = df_general[\"personas_a_cargo\"].fillna(0)\n",
    "df_general_codificado[\"experiencia\"] = df_general[\"experiencia\"].apply(lambda x: 0 if x == \"Sin Experiencia\" \n",
    "                                                               else 1 if x in [\"Menos de un año\", \"1 año\"]\n",
    "                                                               else 2 if x in [\"2 años\", \"3 años\", \"3-5 años\"]\n",
    "                                                               else 3)"
   ]
  },
  {
   "cell_type": "code",
   "execution_count": 7,
   "id": "9bc53419-3673-4fc2-a326-5a5f2bf5c599",
   "metadata": {},
   "outputs": [],
   "source": [
    "df_codificado = pd.merge(df_general_codificado, df_sql, on='id', how='left')"
   ]
  },
  {
   "cell_type": "code",
   "execution_count": 8,
   "id": "75d20128-2111-4d3e-9e2b-bccd201e4cc9",
   "metadata": {},
   "outputs": [],
   "source": [
    "imputer = KNNImputer(n_neighbors=5)\n",
    "columnas = df_codificado.drop(columns=[\"id\"])\n",
    "df_columnas_imputadas = imputer.fit_transform(columnas)\n",
    "df_columnas_imputadas = pd.DataFrame(df_columnas_imputadas, columns=columnas.columns)\n",
    "df_imputado = pd.concat([df_columnas_imputadas, df_codificado[\"id\"]], axis=1)\n",
    "df_imputado.to_csv(\"/home/bosser/Escritorio/proyectofinal/df_imputado.csv\", index = False)"
   ]
  },
  {
   "cell_type": "code",
   "execution_count": 9,
   "id": "863bf216-9583-4d0a-87ef-76c3f0648e71",
   "metadata": {},
   "outputs": [],
   "source": [
    "##para la segunda parte dbscan"
   ]
  }
 ],
 "metadata": {
  "kernelspec": {
   "display_name": "Python 3 (ipykernel)",
   "language": "python",
   "name": "python3"
  },
  "language_info": {
   "codemirror_mode": {
    "name": "ipython",
    "version": 3
   },
   "file_extension": ".py",
   "mimetype": "text/x-python",
   "name": "python",
   "nbconvert_exporter": "python",
   "pygments_lexer": "ipython3",
   "version": "3.12.7"
  }
 },
 "nbformat": 4,
 "nbformat_minor": 5
}
