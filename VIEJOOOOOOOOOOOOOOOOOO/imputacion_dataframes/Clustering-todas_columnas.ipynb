{
 "cells": [
  {
   "cell_type": "code",
   "execution_count": 1,
   "id": "d8d7ec28-a607-4654-b8c8-5b27787b1cce",
   "metadata": {},
   "outputs": [],
   "source": [
    "import pandas as pd\n",
    "from sklearn.impute import KNNImputer\n",
    "from sklearn.preprocessing import LabelEncoder\n",
    "import numpy as np\n",
    "from sklearn.preprocessing import MinMaxScaler\n",
    "import mysql.connector\n",
    "from unidecode import unidecode"
   ]
  },
  {
   "cell_type": "code",
   "execution_count": 2,
   "id": "6debafb9-ee01-4a08-9a5c-660f57df6ffa",
   "metadata": {},
   "outputs": [],
   "source": [
    "df_matricial_tecnologias_tecnoempleo = pd.read_csv(\"../tecnologias_matricial_tecnoempleo.csv\")\n",
    "df_matricial_habilidades_tecnoempleo = pd.read_csv(\"../habilidades_matricial_tecnoempleo.csv\")\n",
    "df_matricial_habilidades_manfred = pd.read_csv(\"../habilidades_matricial_manfred.csv\")\n",
    "df_matricial_tecnologias_manfred = pd.read_csv(\"../programas_matricial_manfred.csv\")\n",
    "df_general = pd.read_csv(\"../ofertas_final.csv\")"
   ]
  },
  {
   "cell_type": "code",
   "execution_count": 3,
   "id": "2117e587-5715-4328-ba40-72e75f9561ba",
   "metadata": {},
   "outputs": [],
   "source": [
    "df_tecnologias_combinado = pd.concat([df_matricial_tecnologias_tecnoempleo, df_matricial_tecnologias_manfred], axis=0, join='outer', ignore_index=True)\n",
    "df_habilidades_combinado = pd.concat([df_matricial_habilidades_tecnoempleo, df_matricial_habilidades_manfred], axis=0, join='outer', ignore_index=True)\n",
    "df_matricial_hab_tec = pd.merge(df_tecnologias_combinado, df_habilidades_combinado, on='id',how='outer')\n",
    "df_matricial_hab_tec = df_matricial_hab_tec.fillna(0)"
   ]
  },
  {
   "cell_type": "code",
   "execution_count": 4,
   "id": "5c44cf38-0597-449a-959d-7a51b2a86c72",
   "metadata": {},
   "outputs": [],
   "source": [
    "df_general_codificado = pd.DataFrame()\n",
    "df_general_codificado[\"id\"] = df_general[\"id\"]\n",
    "df_general_codificado[\"salario_media\"] = (df_general[\"salario_desde\"] + df_general[\"salario_hasta\"]) / 2\n",
    "df_general_codificado[\"variable\"] = df_general[\"variable\"].fillna(0)\n",
    "df_general_codificado[\"variable_booleano\"] = df_general_codificado[\"variable\"].apply(lambda x: 1 if x != 0 else 0)\n",
    "moda_vacaciones = df_general[\"vacaciones\"].mode()[0]\n",
    "df_general_codificado[\"vacaciones\"] = df_general[\"vacaciones\"].fillna(moda_vacaciones) \n",
    "df_general_codificado[\"teletrabajo\"] = df_general[\"teletrabajo\"].map({\"Presencial\": 0, \"Hibrido\": 1, \"Remoto\": 2})\n",
    "df_general_codificado[\"jornada_tipo\"] = df_general[\"jornada_tipo\"].map({\"Intensiva Mañana\": 0, \"Intensiva Tarde\": 1, \"Jornada Completa\": 2, \n",
    "                                                                \"Jornada Completa Flexible\": 3, \"Media Jornada\": 4, \"Por Horas\": 5, \"Turno Rotatorio\" : 6})\n",
    "categorias_funciones = {cat: i for i, cat in enumerate(df_general[\"funciones\"].dropna().unique())}\n",
    "df_general_codificado[\"funciones\"] = df_general[\"funciones\"].map(categorias_funciones)\n",
    "df_general_codificado[\"contrato_tipo\"] = df_general[\"contrato_tipo\"].map({\"Indefinido\": 0, \"Temporal\": 1, \"Obra o servicio\": 2,\n",
    "                                                                  \"Freelance/Autónomo\": 3, \"Prácticas\": 4, \"A determinar\": 5})\n",
    "df_general_codificado[\"nivel_profesional\"] = df_general[\"nivel_profesional\"].map({\"Administrador / Consejero\": 0, \"Director / Gerente\": 1, \n",
    "                                                                          \"Mando Intermedio\": 2, \"Especialista\": 3, \"Empleado\": 4, \"Prácticas / Beca\": 5})\n",
    "df_general_codificado[\"formacion_minima\"] = df_general[\"formacion_minima\"].map({\"Doctorado\": 0, \"Ingeniero Superior\": 1, \"Ingeniero Técnico\": 2, \"Licenciado\": 3, \n",
    "                                                                        \"Postgrado EEES (Máster)\": 4, \"Diplomado\": 5, \"FP2/Grado Superior\": 6, \n",
    "                                                                        \"Grado EEES (Bolonia)\": 7, \"Grado Medio\": 8, \"Bachillerato/COU\": 9, \n",
    "                                                                        \"E.S.O. (Educación Secundaria Obligatoria)\": 10, \"FP1\": 11, \"Sin estudios\": 12, \n",
    "                                                                        \"Otros títulos, certificaciones y carnets\": 13, \"Certificado de Profesionalidad\": 14, \n",
    "                                                                        \"Otra Formación Tecnológica\": 15})\n",
    "\n",
    "df_general_codificado[\"personas_a_cargo\"] = df_general[\"personas_a_cargo\"].fillna(0)\n",
    "df_general_codificado[\"experiencia\"] = df_general[\"experiencia\"].apply(lambda x: 0 if x == \"Sin Experiencia\" \n",
    "                                                               else 1 if x in [\"Menos de un año\", \"1 año\"]\n",
    "                                                               else 2 if x in [\"2 años\", \"3 años\", \"3-5 años\"]\n",
    "                                                               else 3)"
   ]
  },
  {
   "cell_type": "code",
   "execution_count": 5,
   "id": "b1cf9b7d-b999-41f0-a4fc-0bb06e35f34c",
   "metadata": {},
   "outputs": [],
   "source": [
    "df_codificado = pd.merge(df_general_codificado, df_matricial_hab_tec, on='id',how='outer')"
   ]
  },
  {
   "cell_type": "code",
   "execution_count": 6,
   "id": "75d20128-2111-4d3e-9e2b-bccd201e4cc9",
   "metadata": {},
   "outputs": [],
   "source": [
    "imputer = KNNImputer(n_neighbors=5)\n",
    "columnas = df_codificado.drop(columns=[\"id\"])\n",
    "df_columnas_imputadas = imputer.fit_transform(columnas)\n",
    "df_columnas_imputadas = pd.DataFrame(df_columnas_imputadas, columns=columnas.columns)\n",
    "df_imputado = pd.concat([df_codificado[\"id\"], df_columnas_imputadas], axis=1)\n",
    "df_imputado.to_csv(\"/home/bosser/Escritorio/proyectofinal/df_imputado_plus.csv\", index = False)"
   ]
  },
  {
   "cell_type": "code",
   "execution_count": null,
   "id": "863bf216-9583-4d0a-87ef-76c3f0648e71",
   "metadata": {},
   "outputs": [],
   "source": []
  }
 ],
 "metadata": {
  "kernelspec": {
   "display_name": "Python 3 (ipykernel)",
   "language": "python",
   "name": "python3"
  },
  "language_info": {
   "codemirror_mode": {
    "name": "ipython",
    "version": 3
   },
   "file_extension": ".py",
   "mimetype": "text/x-python",
   "name": "python",
   "nbconvert_exporter": "python",
   "pygments_lexer": "ipython3",
   "version": "3.12.7"
  }
 },
 "nbformat": 4,
 "nbformat_minor": 5
}
