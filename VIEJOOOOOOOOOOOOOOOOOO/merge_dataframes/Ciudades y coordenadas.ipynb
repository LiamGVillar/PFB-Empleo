{
 "cells": [
  {
   "cell_type": "code",
   "execution_count": 38,
   "id": "40fe068d-b575-4fee-8741-68c3125e0c89",
   "metadata": {},
   "outputs": [],
   "source": [
    "import pandas as pd\n",
    "from geopy.geocoders import Nominatim\n",
    "from time import sleep"
   ]
  },
  {
   "cell_type": "code",
   "execution_count": 44,
   "id": "674ad8a9-8f09-49b4-9aa3-e110edef95fd",
   "metadata": {},
   "outputs": [],
   "source": [
    "df_general = pd.read_csv(\"/home/bosser/Documentos/PROYECTOFINAL/CSV/CSV_finales/ofertas_final.csv\")\n",
    "df_general_ciudades = df_general[[\"id\", \"ciudad\"]]  # df con las columnas necesarias.\n",
    "\n",
    "def split_presencial(row):\n",
    "    if pd.notna(row[\"ciudad\"]) and (\" OR \" in row[\"ciudad\"] or \" O \" in row[\"ciudad\"]):\n",
    "        ciudades = [ciudad.strip() for ciudad in row[\"ciudad\"].replace(\" O \", \" OR \").split(\" OR \")]\n",
    "        return pd.DataFrame({\n",
    "            \"id\": [row[\"id\"]] * len(ciudades),\n",
    "            \"ciudades\": ciudades})\n",
    "    else:\n",
    "        return pd.DataFrame({\"id\": [row[\"id\"]], \"ciudades\": [row[\"ciudad\"]]})\n",
    "\n",
    "#Aplicamos la función, concatenamos el resultado y generamos csv\n",
    "df_ciudades = pd.concat(df_general_ciudades.apply(split_presencial, axis=1).tolist(), ignore_index=True)\n",
    "df_ciudades.to_csv(\"resultado_presencial.csv\", index=False) ###### PATH y nombre del archivo."
   ]
  },
  {
   "cell_type": "code",
   "execution_count": null,
   "id": "4027bbb1-6370-4aa9-b28e-fdd044c87fcc",
   "metadata": {},
   "outputs": [],
   "source": [
    "ciudades = list(set(df_ciudades[\"ciudades\"]))\n",
    "def obtener_coordenadas(ciudades):\n",
    "    \n",
    "    # Inicializamos el geolocalizador\n",
    "    geolocalizador = Nominatim(user_agent=\"geoapi\")\n",
    "    # Lista para almacenar los datos\n",
    "    datos = []\n",
    "\n",
    "    for ciudad in ciudades:\n",
    "        try:\n",
    "            ubicacion = geolocalizador.geocode(ciudad, timeout=10, addressdetails=True)\n",
    "            if ubicacion:\n",
    "                direccion = ubicacion.raw.get(\"address\", {})\n",
    "                datos.append({\n",
    "                    \"Ciudad\": ciudad.title(),\n",
    "                    \"País\": direccion.get(\"country\", \"Desconocido\"),\n",
    "                    \"Comunidad Autónoma\": direccion.get(\"state\", \"Desconocido\"),\n",
    "                    \"Latitud\": ubicacion.latitude,\n",
    "                    \"Longitud\": ubicacion.longitude})\n",
    "            else:\n",
    "                print(f\"No se encontraron coordenadas para: {ciudad}\")\n",
    "            sleep(1)  # Esperar para evitar bloqueos de la API\n",
    "        except Exception as e:\n",
    "            print(f\"Error con {ciudad}: {e}\")\n",
    "\n",
    "    # Convertimos a DataFrame e ignoramos filas con nan\n",
    "    df = pd.DataFrame(datos).dropna()\n",
    "\n",
    "    # Guardamos en CSV\n",
    "    df.to_csv(\"ciudades_coordenadas.csv\", index=False)   ###### PATH  \n",
    "\n",
    "obtener_coordenadas(ciudades)"
   ]
  },
  {
   "cell_type": "code",
   "execution_count": null,
   "id": "7bedafb1-4f30-4c08-9b16-300121546f61",
   "metadata": {},
   "outputs": [],
   "source": []
  }
 ],
 "metadata": {
  "kernelspec": {
   "display_name": "Python 3 (ipykernel)",
   "language": "python",
   "name": "python3"
  },
  "language_info": {
   "codemirror_mode": {
    "name": "ipython",
    "version": 3
   },
   "file_extension": ".py",
   "mimetype": "text/x-python",
   "name": "python",
   "nbconvert_exporter": "python",
   "pygments_lexer": "ipython3",
   "version": "3.12.7"
  }
 },
 "nbformat": 4,
 "nbformat_minor": 5
}
