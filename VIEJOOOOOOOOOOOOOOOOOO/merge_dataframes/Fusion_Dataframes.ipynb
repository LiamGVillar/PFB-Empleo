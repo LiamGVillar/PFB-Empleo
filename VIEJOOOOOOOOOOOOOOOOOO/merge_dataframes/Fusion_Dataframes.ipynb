{
 "cells": [
  {
   "cell_type": "code",
   "execution_count": 1,
   "id": "48b8a7b2-5741-41e2-9dca-4b9bcaefd13d",
   "metadata": {},
   "outputs": [],
   "source": [
    "import pandas as pd\n",
    "from geopy.geocoders import Nominatim\n",
    "from time import sleep"
   ]
  },
  {
   "cell_type": "markdown",
   "id": "d7fa8255-5265-4b3a-b487-cc46cfa1e654",
   "metadata": {},
   "source": [
    "# GENERAL"
   ]
  },
  {
   "cell_type": "code",
   "execution_count": 2,
   "id": "59b21e3f-3b9c-4456-9f87-461ab660f36e",
   "metadata": {},
   "outputs": [],
   "source": [
    "#Abrimos archivos csv limpios procedentes de la extracciṕon y limpieza. \n",
    "\n",
    "df_tecnoempleo = pd.read_csv(\"../CSV/CSV_manfred/general_limpio_tecnoempleo.csv\") ###########PATH\n",
    "df_manfred = pd.read_csv(\"../CSV/CSV_tecnoempleo/general_limpio_manfred.csv\")###########PATH"
   ]
  },
  {
   "cell_type": "code",
   "execution_count": null,
   "id": "5aee54ef-f854-4a40-a2d1-a2d92094493e",
   "metadata": {},
   "outputs": [],
   "source": [
    "#Renombramos columnas.\n",
    "\n",
    "df_tecnoempleo = df_tecnoempleo.rename(columns={\"Título\": \"titulo\",\n",
    "                                                \"Nombre de empresa\": \"empresa\", \n",
    "                                                \"Ciudad\": \"ciudad\",\n",
    "                                                \"Salario_desde\": \"salario_desde\", \n",
    "                                                \"Salario_hasta\": \"salario_hasta\", \n",
    "                                                \"Jornada\": \"jornada_tipo\", \n",
    "                                                \"Teletrabajo\": \"teletrabajo\",\n",
    "                                                \"Time Stamp\": \"timestamp\", \n",
    "                                                \"Fecha publicacion\" : \"fecha_publicacion\", \n",
    "                                                \"Imprescindible Residir\" : \"imprescindible_residir\",\n",
    "                                                \"Funciones\" : \"funciones\", \n",
    "                                                \"Nivel Profesional\" : \"nivel_profesional\",\n",
    "                                                \"CVs inscritos en el proceso\" : \"cvs_inscritos\", \n",
    "                                                \"Otras Provincias\" : \"otras_provincias\", \n",
    "                                                \"Número de puestos\" : \"vacantes\", \n",
    "                                                \"Personas a cargo\" : \"personas_a_cargo\", \n",
    "                                                \"+ Países\" : \"otros_paises\", \n",
    "                                                \"URL\" : \"url\", \n",
    "                                                \"Experiencia\" : \"experiencia\", \n",
    "                                                \"Tipo contrato\" : \"contrato_tipo\",\n",
    "                                                \"Formación Mínima\" : \"formacion_minima\"})\n",
    "df_manfred = df_manfred.rename(columns={\"Presencial\": \"ciudad\", \n",
    "                                        \"Salario_desde\": \"salario_desde\", \n",
    "                                        \"Salario_hasta\": \"salario_hasta\",\n",
    "                                        \"Jornada\": \"jornada_tipo\", \n",
    "                                        \"Teletrabajo\": \"teletrabajo\", \n",
    "                                        \"fecha_extraccion\" : \"timestamp\"})\n",
    "\n",
    "#Eliminamos la columna incentivos.\n",
    "df_tecnoempleo.drop(columns = [\"Incentivos\", \"Info Otros Países\", \"otros_paises\"], inplace = True)"
   ]
  },
  {
   "cell_type": "code",
   "execution_count": null,
   "id": "f5717e7d-d469-4d87-b236-ec7b585b31d4",
   "metadata": {},
   "outputs": [],
   "source": [
    "#Unimos ambos df y ordenamos.\n",
    "\n",
    "df_fusion = pd.concat([df_tecnoempleo, df_manfred], axis=0, join='outer', ignore_index=True)\n",
    "orden_columnas_fusion = [\"id\",\"empresa\",\"titulo\",\"ciudad\", \n",
    "                         \"salario_desde\", \"salario_hasta\",\"variable\", \n",
    "                         \"vacaciones\", \"teletrabajo\", \"jornada_tipo\",\n",
    "                         \"turno_continuo\", \"imprescindible_residir\", \n",
    "                         \"funciones\", \"contrato_tipo\", \"nivel_profesional\", \n",
    "                         \"formacion_minima\", \"personas_a_cargo\", \"experiencia\", \n",
    "                         \"vacantes\", \"cvs_inscritos\", \"oferta_activada\", \n",
    "                         \"fecha_publicacion\", \"timestamp\", \"url\"]\n",
    "df_fusion = df_fusion[orden_columnas_fusion]"
   ]
  },
  {
   "cell_type": "code",
   "execution_count": null,
   "id": "d078a41a-5b7c-42ee-b6f5-7f958ae5d3db",
   "metadata": {},
   "outputs": [],
   "source": [
    "#Simplificamos teletrabajo y modificacion de los tipos de algunas columnas.\n",
    "\n",
    "df_fusion[\"teletrabajo\"] =  df_fusion[\"teletrabajo\"].apply(\n",
    "    lambda x : \"Remoto\" if x == 100 or x == \"Remoto\" \n",
    "    else \"Presencial\" if x == 0 or x == \"Presencial\"\n",
    "    else \"Hibrido\")\n",
    "df_fusion[\"jornada_tipo\"] = df_fusion[\"jornada_tipo\"].astype(str).str.title()\n",
    "df_fusion[\"fecha_publicacion\"] = pd.to_datetime(df_fusion[\"fecha_publicacion\"], errors = \"coerce\")\n",
    "df_fusion[\"timestamp\"] = pd.to_datetime(df_fusion[\"timestamp\"], errors = \"coerce\")\n",
    "df_fusion[\"oferta_activada\"] = df_fusion[\"oferta_activada\"].fillna(1).astype(int)"
   ]
  },
  {
   "cell_type": "code",
   "execution_count": 17,
   "id": "1b18e2c5-f6c9-456a-8283-f8447a4778cc",
   "metadata": {},
   "outputs": [],
   "source": [
    "#Generamos CSV.\n",
    "\n",
    "df_fusion.to_csv(\"../CSV/CSV_finales/ofertas_final.csv\", index=False, encoding=\"utf-8-sig\")###########PATH"
   ]
  },
  {
   "cell_type": "markdown",
   "id": "e14d1f8a-46bc-4a78-abd3-e454ba2a3dab",
   "metadata": {},
   "source": [
    "# HABILIDADES"
   ]
  },
  {
   "cell_type": "code",
   "execution_count": null,
   "id": "d7984c09-0192-4484-bb5e-890ef275a324",
   "metadata": {},
   "outputs": [],
   "source": [
    "#Abrimos archivos csv con los df matriciales de habilidades de ambas extracciones.  \n",
    "\n",
    "df_habilidades_matriciales_tecnoempleo = pd.read_csv(\"../CSV/CSV_matriciales/habilidades_matricial_tecnoempleo.csv\")###########PATH\n",
    "df_habilidades_matriciales_manfred = pd.read_csv(\"../CSV/CSV_matriciales/habilidades_matricial_manfred.csv\")###########PATH"
   ]
  },
  {
   "cell_type": "code",
   "execution_count": 20,
   "id": "14dcb43a-04ab-4b01-a1a3-8a993cbc4a4c",
   "metadata": {},
   "outputs": [],
   "source": [
    "#Unimos ambos df y pasamos todas las columnas, excepto id, a INT. \n",
    "\n",
    "df_habilidades_matriciales_fusion = pd.concat(\n",
    "    [df_habilidades_matriciales_manfred, df_habilidades_matriciales_tecnoempleo], axis=0, join='outer', ignore_index=True).fillna(0)\n",
    "for columna in df_habilidades_matriciales_fusion.columns:\n",
    "    if columna != \"id\":\n",
    "        df_habilidades_matriciales_fusion[columna] = df_habilidades_matriciales_fusion[columna].astype(int)"
   ]
  },
  {
   "cell_type": "code",
   "execution_count": 22,
   "id": "e99d5f4e-3222-4592-a47f-43d126233b8a",
   "metadata": {},
   "outputs": [],
   "source": [
    "#Función para generar los df de habilidades y habilidades relación.\n",
    "\n",
    "def habilidades_relacion(df):\n",
    "    # Convertimos el DataFrame a formato largo\n",
    "    df_largo = df.melt(id_vars=[\"id\"], var_name=\"habilidades\", value_name=\"presente\")\n",
    "    \n",
    "    # Filtramos las filas donde \"presente\" es igual a 1\n",
    "    df_largo = df_largo[df_largo[\"presente\"] == 1].drop(columns=[\"presente\"])\n",
    "    \n",
    "    # Creamos un DataFrame de habilidades con un ID único\n",
    "    df_habilidades = pd.DataFrame({\"habilidades\": df_largo[\"habilidades\"].unique()})\n",
    "    df_habilidades[\"hab_id\"] = range(1, len(df_habilidades) + 1)\n",
    "    \n",
    "    # Relacionamos los dos DataFrames\n",
    "    df_relacion = df_largo.merge(df_habilidades, on=\"habilidades\", how=\"left\").drop(columns=[\"habilidades\"])\n",
    "\n",
    "    # Guardamos los DataFrames en archivos CSV (hardcodeado)\n",
    "    df_habilidades.to_csv(\"habilidades_final.csv\", index=False)###########PATH\n",
    "    df_relacion.to_csv(\"habilidades_relacion_final.csv\", index=False)###########PATH\n",
    "\n",
    "habilidades_relacion(df_habilidades_matriciales_fusion)"
   ]
  },
  {
   "cell_type": "markdown",
   "id": "8da625cb-c48d-4a87-9d78-acc97199d023",
   "metadata": {},
   "source": [
    "# TECNOLOGÍAS"
   ]
  },
  {
   "cell_type": "code",
   "execution_count": null,
   "id": "6310e391-f0ab-4a47-a6e8-69a6a6ed543d",
   "metadata": {},
   "outputs": [],
   "source": [
    "#Abrimos archivos csv con los df matriciales de tecnologías de ambas extracciones.  \n",
    "\n",
    "df_tecnologias_matriciales_tecnoempleo = pd.read_csv(\"../CSV/CSV_matriciales/tecnologias_matricial_tecnoempleo.csv\")###########PATH\n",
    "df_tecnologias_matriciales_manfred = pd.read_csv(\"../CSV/CSV_matriciales/tecnologias_matricial_manfred.csv\")###########PATH"
   ]
  },
  {
   "cell_type": "code",
   "execution_count": 25,
   "id": "2807e35e-9eeb-4d6e-a444-494e04c4f7e6",
   "metadata": {},
   "outputs": [],
   "source": [
    "#Unimos ambos df y pasamos todas las columnas, excepto id, a INT. \n",
    "\n",
    "df_tecnologias_matriciales_fusion = pd.concat(\n",
    "    [df_tecnologias_matriciales_manfred, df_tecnologias_matriciales_tecnoempleo], axis=0, join='outer', ignore_index=True).fillna(0)\n",
    "for columna in df_tecnologias_matriciales_fusion.columns:\n",
    "    if columna != \"id\":\n",
    "        df_tecnologias_matriciales_fusion[columna] = df_tecnologias_matriciales_fusion[columna].astype(int)"
   ]
  },
  {
   "cell_type": "code",
   "execution_count": 1,
   "id": "79940ee8-c37b-409e-ba72-6229ddadf2c7",
   "metadata": {},
   "outputs": [],
   "source": [
    "#Función para generar los df de habilidades y habilidades relación.\n",
    "\n",
    "def tecnologias_relacion (df):  \n",
    "    # Lo convertimos hacia abajo para que sea mas sencillo\n",
    "    df_largo = df.melt(id_vars=[\"id\"], var_name=\"tecnologia\", value_name=\"presente\")\n",
    "    #Si es igual a 1 lo mantenemos\n",
    "    df_largo = df_largo[df_largo[\"presente\"] == 1].drop(columns=[\"presente\"])\n",
    "    \n",
    "    #Creamos un df de tecnoligas poniendole un id \n",
    "    df_tecnologias = pd.DataFrame({\"tecnologia\": df_largo[\"tecnologia\"].unique()})\n",
    "    df_tecnologias[\"tec_id\"] = range(1, len(df_tecnologias) + 1)\n",
    "    \n",
    "    # Creamos df de relación\n",
    "    df_relacion = df_largo.merge(df_tecnologias, on=\"tecnologia\", how=\"left\").drop(columns=[\"tecnologia\"])\n",
    "\n",
    "    #Generamos archivos CSV\n",
    "    df_tecnologias.to_csv(\"tecnologias_final.csv\", index=False)###########PATH\n",
    "    df_relacion.to_csv(\"tecnologias_relacion_final.csv\", index = False)###########PATH\n",
    "\n",
    "tecnologias_relacion(df_tecnologias_matriciales_fusion)"
   ]
  },
  {
   "cell_type": "markdown",
   "id": "7280d418-79d5-43f5-a407-6b179289d1ba",
   "metadata": {},
   "source": [
    "# CIUDADES"
   ]
  },
  {
   "cell_type": "code",
   "execution_count": null,
   "id": "2b35b662-9137-492b-993b-9e19cee727f7",
   "metadata": {},
   "outputs": [],
   "source": [
    "df_general = pd.read_csv(\"/home/bosser/Documentos/PROYECTOFINAL/CSV/CSV_finales/ofertas_final.csv\")\n",
    "df_general_ciudades = df_general[[\"id\", \"ciudad\"]]  # df con las columnas necesarias.\n",
    "\n",
    "def split_presencial(row):\n",
    "    if pd.notna(row[\"ciudad\"]) and (\" OR \" in row[\"ciudad\"] or \" O \" in row[\"ciudad\"]):\n",
    "        ciudades = [ciudad.strip() for ciudad in row[\"ciudad\"].replace(\" O \", \" OR \").split(\" OR \")]\n",
    "        return pd.DataFrame({\n",
    "            \"id\": [row[\"id\"]] * len(ciudades),\n",
    "            \"ciudades\": ciudades})\n",
    "    else:\n",
    "        return pd.DataFrame({\"id\": [row[\"id\"]], \"ciudades\": [row[\"ciudad\"]]})\n",
    "\n",
    "#Aplicamos la función, concatenamos el resultado y generamos csv\n",
    "df_ciudades = pd.concat(df_general_ciudades.apply(split_presencial, axis=1).tolist(), ignore_index=True)\n",
    "df_ciudades.to_csv(\"resultado_presencial.csv\", index=False) ###### PATH y nombre del archivo."
   ]
  },
  {
   "cell_type": "markdown",
   "id": "8d4f023d-581e-4cca-b11a-657a364f1320",
   "metadata": {},
   "source": [
    "# CIUDADES COORDENADAS"
   ]
  },
  {
   "cell_type": "code",
   "execution_count": null,
   "id": "bab32712-2b4d-4ac6-9d70-20118cc73106",
   "metadata": {},
   "outputs": [],
   "source": [
    "ciudades = list(set(df_ciudades[\"ciudades\"])) #Lista de ciudades únicas.\n",
    "def obtener_coordenadas(ciudades):\n",
    "    \n",
    "    # Inicializamos el geolocalizador\n",
    "    geolocalizador = Nominatim(user_agent=\"geoapi\")\n",
    "    datos = []  # Lista para almacenar los datos\n",
    "\n",
    "    #Añadimos país, comunidad autónoma, latitud y longitud.\n",
    "    for ciudad in ciudades:\n",
    "        try:\n",
    "            ubicacion = geolocalizador.geocode(ciudad, timeout=10, addressdetails=True)\n",
    "            if ubicacion:\n",
    "                direccion = ubicacion.raw.get(\"address\", {})\n",
    "                datos.append({\n",
    "                    \"Ciudad\": ciudad.title(),\n",
    "                    \"País\": direccion.get(\"country\", \"Desconocido\"),\n",
    "                    \"Comunidad Autónoma\": direccion.get(\"state\", \"Desconocido\"),\n",
    "                    \"Latitud\": ubicacion.latitude,\n",
    "                    \"Longitud\": ubicacion.longitude})\n",
    "            else:\n",
    "                print(f\"No se encontraron coordenadas para: {ciudad}\")\n",
    "            sleep(1)  # Esperar para evitar bloqueos de la API\n",
    "        except Exception as e:\n",
    "            print(f\"Error con {ciudad}: {e}\")\n",
    "\n",
    "    # Convertimos a DataFrame e ignoramos filas con nan\n",
    "    df = pd.DataFrame(datos).dropna()\n",
    "\n",
    "    # Guardamos en CSV\n",
    "    df.to_csv(\"ciudades_coordenadas.csv\", index=False)   ###### PATH  \n",
    "\n",
    "obtener_coordenadas(ciudades)"
   ]
  },
  {
   "cell_type": "code",
   "execution_count": null,
   "id": "d517220a-07a0-40a4-b7ab-12dae90f0009",
   "metadata": {},
   "outputs": [],
   "source": [
    "####################################################################################################################"
   ]
  }
 ],
 "metadata": {
  "kernelspec": {
   "display_name": "Python 3 (ipykernel)",
   "language": "python",
   "name": "python3"
  },
  "language_info": {
   "codemirror_mode": {
    "name": "ipython",
    "version": 3
   },
   "file_extension": ".py",
   "mimetype": "text/x-python",
   "name": "python",
   "nbconvert_exporter": "python",
   "pygments_lexer": "ipython3",
   "version": "3.12.7"
  }
 },
 "nbformat": 4,
 "nbformat_minor": 5
}
