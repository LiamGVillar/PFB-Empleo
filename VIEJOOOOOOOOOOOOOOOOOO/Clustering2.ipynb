{
 "cells": [
  {
   "cell_type": "code",
   "execution_count": null,
   "id": "77ff35d8-ce2b-4661-a678-dd99f4937645",
   "metadata": {},
   "outputs": [],
   "source": [
    "import pandas as pd\n",
    "from sqlalchemy import create_engine\n",
    "import mysql.connector"
   ]
  },
  {
   "cell_type": "code",
   "execution_count": 1,
   "id": "f3a8d619-cd6e-4336-83bc-93b14633d3db",
   "metadata": {},
   "outputs": [
    {
     "ename": "NameError",
     "evalue": "name 'mysql' is not defined",
     "output_type": "error",
     "traceback": [
      "\u001b[0;31m---------------------------------------------------------------------------\u001b[0m",
      "\u001b[0;31mNameError\u001b[0m                                 Traceback (most recent call last)",
      "Cell \u001b[0;32mIn[1], line 2\u001b[0m\n\u001b[1;32m      1\u001b[0m database \u001b[38;5;241m=\u001b[39m \u001b[38;5;124m\"\u001b[39m\u001b[38;5;124mofertas_de_empleo\u001b[39m\u001b[38;5;124m\"\u001b[39m\n\u001b[0;32m----> 2\u001b[0m db \u001b[38;5;241m=\u001b[39m mysql\u001b[38;5;241m.\u001b[39mconnector\u001b[38;5;241m.\u001b[39mconnect(host     \u001b[38;5;241m=\u001b[39m \u001b[38;5;124m\"\u001b[39m\u001b[38;5;124mlocalhost\u001b[39m\u001b[38;5;124m\"\u001b[39m,\n\u001b[1;32m      3\u001b[0m                              user     \u001b[38;5;241m=\u001b[39m \u001b[38;5;124m\"\u001b[39m\u001b[38;5;124mroot\u001b[39m\u001b[38;5;124m\"\u001b[39m,\n\u001b[1;32m      4\u001b[0m                              password \u001b[38;5;241m=\u001b[39m \u001b[38;5;124m\"\u001b[39m\u001b[38;5;124mScarface\u001b[39m\u001b[38;5;124m\"\u001b[39m,\n\u001b[1;32m      5\u001b[0m                              database \u001b[38;5;241m=\u001b[39m database)\n\u001b[1;32m      7\u001b[0m query \u001b[38;5;241m=\u001b[39m \u001b[38;5;124m\"\"\"\u001b[39m\n\u001b[1;32m      8\u001b[0m \u001b[38;5;124mSELECT \u001b[39m\n\u001b[1;32m      9\u001b[0m \u001b[38;5;124m    o.empresa,\u001b[39m\n\u001b[0;32m   (...)\u001b[0m\n\u001b[1;32m     60\u001b[0m \n\u001b[1;32m     61\u001b[0m \u001b[38;5;124m\"\"\"\u001b[39m\n\u001b[1;32m     63\u001b[0m \u001b[38;5;66;03m# Cargar los datos en un DataFrame\u001b[39;00m\n",
      "\u001b[0;31mNameError\u001b[0m: name 'mysql' is not defined"
     ]
    }
   ],
   "source": [
    "database = \"ofertas_de_empleo\"\n",
    "db = mysql.connector.connect(host     = \"localhost\",\n",
    "                             user     = \"root\",\n",
    "                             password = \"Scarface\",\n",
    "                             database = database)\n",
    "\n",
    "query = \"\"\"\n",
    "SELECT \n",
    "    o.empresa,\n",
    "    -- Crear la columna salario_media combinando salario_desde y salario_hasta\n",
    "    (o.salario_desde + o.salario_hasta) / 2 AS salario_media,\n",
    "    \n",
    "    -- Reemplazar los valores NaN en la columna 'variabe' con 0\n",
    "    IFNULL(o.variabe, 0) AS variabe,\n",
    "    \n",
    "    -- Crear la columna 'variable_booleano'\n",
    "    IF(o.variabe = 0, 0, 1) AS variable_booleano,\n",
    "    \n",
    "    -- Reemplazar los valores NaN en la columna 'vacaciones' por la moda\n",
    "    IFNULL(o.vacaciones, (SELECT VACACIONES \n",
    "                          FROM ofertas \n",
    "                          GROUP BY VACACIONES \n",
    "                          ORDER BY COUNT(*) DESC \n",
    "                          LIMIT 1)) AS vacaciones,\n",
    "    \n",
    "    -- Tecnologías relacionadas con la oferta (pueden ser varias)\n",
    "    GROUP_CONCAT(DISTINCT t.tecnologia) AS tecnologias,\n",
    "    \n",
    "    -- Habilidades relacionadas con la oferta (pueden ser varias)\n",
    "    GROUP_CONCAT(DISTINCT h.habilidad) AS habilidades,\n",
    "    \n",
    "    -- Idiomas asociados con la oferta\n",
    "    GROUP_CONCAT(DISTINCT i.idioma) AS idiomas,\n",
    "    \n",
    "    -- Niveles de los idiomas\n",
    "    GROUP_CONCAT(DISTINCT i.nivel) AS niveles_idioma,\n",
    "    \n",
    "    -- Información sobre la ciudad (sin coordenadas ni comunidad autónoma)\n",
    "    cci.pais AS ciudad_pais,\n",
    "    cci.ciudad AS ciudad_coordenada\n",
    "FROM \n",
    "    ofertas o\n",
    "LEFT JOIN \n",
    "    tecnologias_relacion tr ON o.id_oferta = tr.id_oferta\n",
    "LEFT JOIN \n",
    "    tecnologias t ON tr.tec_id = t.tec_id\n",
    "LEFT JOIN \n",
    "    habilidades_relacion hr ON o.id_oferta = hr.id_oferta\n",
    "LEFT JOIN \n",
    "    habilidades h ON hr.hab_id = h.hab_id\n",
    "LEFT JOIN \n",
    "    idiomas i ON o.id_oferta = i.id_oferta\n",
    "LEFT JOIN \n",
    "    ciudades ci ON o.id_oferta = ci.id_oferta\n",
    "LEFT JOIN \n",
    "    ciudades_coordenadas cci ON ci.ciudad = cci.ciudad\n",
    "GROUP BY \n",
    "    o.id_oferta;\n",
    "\n",
    "\n",
    "\"\"\"\n",
    "\n",
    "# Cargar los datos en un DataFrame\n",
    "df = pd.read_sql(query, db)\n",
    "\n",
    "print(df.head())  # Verificar los datos"
   ]
  },
  {
   "cell_type": "code",
   "execution_count": null,
   "id": "ff02b3ef-3105-42f3-988e-a4f034795de9",
   "metadata": {},
   "outputs": [],
   "source": [
    "df.iloc[284]"
   ]
  }
 ],
 "metadata": {
  "kernelspec": {
   "display_name": "Python 3 (ipykernel)",
   "language": "python",
   "name": "python3"
  },
  "language_info": {
   "codemirror_mode": {
    "name": "ipython",
    "version": 3
   },
   "file_extension": ".py",
   "mimetype": "text/x-python",
   "name": "python",
   "nbconvert_exporter": "python",
   "pygments_lexer": "ipython3",
   "version": "3.12.7"
  }
 },
 "nbformat": 4,
 "nbformat_minor": 5
}
