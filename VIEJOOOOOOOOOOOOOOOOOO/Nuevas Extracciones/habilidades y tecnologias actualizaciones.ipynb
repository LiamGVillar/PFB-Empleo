{
 "cells": [
  {
   "cell_type": "code",
   "execution_count": 1,
   "id": "803491c3-186c-4a07-ad6e-9f4735d3b746",
   "metadata": {},
   "outputs": [],
   "source": [
    "import pickle\n",
    "import os\n",
    "import pandas as pd\n",
    "import toml\n",
    "import mysql.connector"
   ]
  },
  {
   "cell_type": "code",
   "execution_count": null,
   "id": "811dae26-4fa7-49a3-b474-fe853445aa7d",
   "metadata": {},
   "outputs": [],
   "source": [
    "config = toml.load(\"../.streamlit/secrets.toml\")\n",
    "db_config = config[\"database\"]\n",
    "\n",
    "db = mysql.connector.connect(\n",
    "    host=db_config[\"host\"],\n",
    "    user=db_config[\"user\"],\n",
    "    password=db_config[\"password\"],\n",
    "    database=db_config[\"database\"]\n",
    ")\n",
    "cursor = db.cursor()\n",
    "\n",
    "query_tecnologias = \"SELECT * FROM tecnologias;\"\n",
    "cursor.execute(query_tecnologias)\n",
    "tecnologias_data = cursor.fetchall()\n",
    "df_tecnologias_original = pd.DataFrame(tecnologias_data, columns=cursor.column_names)\n",
    "\n",
    "query_tecnologias_relacion = \"SELECT * FROM tecnologias_relacion;\"\n",
    "cursor.execute(query_tecnologias_relacion)\n",
    "tecnologias_relacion_data = cursor.fetchall()\n",
    "df_tecnologias_relacion_original = pd.DataFrame(tecnologias_relacion_data, columns=cursor.column_names)\n",
    "\n",
    "query_habilidades = \"SELECT * FROM habilidades;\"\n",
    "cursor.execute(query_habilidades)\n",
    "habilidades_data = cursor.fetchall()\n",
    "df_habilidades_original = pd.DataFrame(habilidades_data, columns=cursor.column_names)\n",
    "\n",
    "query_habilidades_relacion = \"SELECT * FROM habilidades_relacion;\"\n",
    "cursor.execute(query_habilidades_relacion)\n",
    "habilidades_relacion_data = cursor.fetchall()\n",
    "df_habilidades_relacion_original = pd.DataFrame(habilidades_relacion_data, columns=cursor.column_names)\n",
    "\n",
    "cursor.close()\n",
    "db.close()"
   ]
  },
  {
   "cell_type": "code",
   "execution_count": 3,
   "id": "dfd14fed-342f-4065-836d-4836b7d8b7cf",
   "metadata": {},
   "outputs": [
    {
     "name": "stderr",
     "output_type": "stream",
     "text": [
      "/tmp/ipykernel_21736/3859967669.py:5: FutureWarning: Downcasting object dtype arrays on .fillna, .ffill, .bfill is deprecated and will change in a future version. Call result.infer_objects(copy=False) instead. To opt-in to the future behavior, set `pd.set_option('future.no_silent_downcasting', True)`\n",
      "  df_tecnologias_matricial_actualizacion = pd.concat([tecnoempleo_tecnologias_matricial, manfred_tecnologias_matricial], ignore_index=True).fillna(0)\n"
     ]
    }
   ],
   "source": [
    "#Cargamos los pickles de habilidades y tecnologias matriciales.\n",
    "\n",
    "manfred_habilidades_matricial = pd.read_pickle(\"Pickles/manfred_habilidades_matricial_actualizacion.pkl\")######PATH\n",
    "manfred_tecnologias_matricial = pd.read_pickle(\"Pickles/manfred_programas_matricial_actualizacion.pkl\")######PATH\n",
    "tecnoempleo_habilidades_matricial = pd.read_pickle(\"Pickles/habilidades_matricial_tecnoempleo_actualizacion.pkl\")######PATH\n",
    "tecnoempleo_tecnologias_matricial = pd.read_pickle(\"Pickles/tecnologias_matricial_tecnoempleo_actualizacion.pkl\")######PATH\n",
    "df_tecnologias_matricial_actualizacion = pd.concat([tecnoempleo_tecnologias_matricial, manfred_tecnologias_matricial], ignore_index=True).fillna(0)\n",
    "df_habilidades_matricial_actualizacion = pd.concat([tecnoempleo_habilidades_matricial, manfred_habilidades_matricial], ignore_index=True).fillna(0)"
   ]
  },
  {
   "cell_type": "code",
   "execution_count": 4,
   "id": "032fe590-e742-4746-ae84-b962232ef1ed",
   "metadata": {},
   "outputs": [],
   "source": [
    "def procesar_tecnologias():\n",
    "        \n",
    "    # Transformar el DataFrame de formato ancho a largo\n",
    "    df_largo = df_tecnologias_matricial_actualizacion.melt(id_vars=[\"id\"], var_name=\"tecnologia\", value_name=\"presente\")\n",
    "            \n",
    "    # Filtrar solo los valores donde \"presente\" es 1\n",
    "    df_largo = df_largo[df_largo[\"presente\"] == 1].drop(columns=[\"presente\"])\n",
    "            \n",
    "    # Serie solo con las tecnologías de la nueva extracción\n",
    "    df_tecnologias_nueva_extraccion = pd.DataFrame({\"tecnologia\": df_largo[\"tecnologia\"].unique()}) \n",
    "    \n",
    "    # Identificar tecnologías nuevas a partir del df tecnologias extraído de la query\n",
    "    tecnologias_nuevas = df_tecnologias_nueva_extraccion[~df_tecnologias_nueva_extraccion[\"tecnologia\"].isin(df_tecnologias_original[\"tecnologia\"])]\n",
    "    #aqui necesito la lista completa de tecnologias\n",
    "    ultimo_id_tecnologias = df_tecnologias_original[\"tec_id\"].max()\n",
    "    #aqui el ultimo id de tecnologias\n",
    "    tecnologias_nuevas[\"tec_id\"] = [ultimo_id_tecnologias + i + 1 for i in range(len(tecnologias_nuevas))]\n",
    "    \n",
    "    # Concatenar las nuevas tecnologías con el DataFrame original\n",
    "    df_tecnologias_completo = pd.concat([df_tecnologias_original, tecnologias_nuevas[[\"tec_id\", \"tecnologia\"]]], ignore_index=True)\n",
    "    df_tecnologias_completo[\"tec_id\"] = df_tecnologias_completo[\"tec_id\"].astype(int)\n",
    "    \n",
    "    # Relacionar los IDs de tecnologías con los IDs originales\n",
    "    \n",
    "    df_relacion_tecnologias = df_largo.merge(df_tecnologias_completo, on=\"tecnologia\", how=\"left\").drop(columns=[\"tecnologia\"])\n",
    "    \n",
    "    \n",
    "    # Guardar los resultados en archivos CSV\n",
    "    tecnologias_nuevas.to_pickle(\"Pickles/nuevas_tecnologias.pkl\") ######PATH\n",
    "    df_relacion_tecnologias.to_pickle(\"Pickles/nuevas_relacion_tecnologias.pkl\") ######PATH"
   ]
  },
  {
   "cell_type": "code",
   "execution_count": 5,
   "id": "0ca1e42d-ef1c-4af4-92a2-fae4a4c54558",
   "metadata": {},
   "outputs": [
    {
     "name": "stderr",
     "output_type": "stream",
     "text": [
      "/tmp/ipykernel_21736/2974558336.py:17: SettingWithCopyWarning: \n",
      "A value is trying to be set on a copy of a slice from a DataFrame.\n",
      "Try using .loc[row_indexer,col_indexer] = value instead\n",
      "\n",
      "See the caveats in the documentation: https://pandas.pydata.org/pandas-docs/stable/user_guide/indexing.html#returning-a-view-versus-a-copy\n",
      "  tecnologias_nuevas[\"tec_id\"] = [ultimo_id_tecnologias + i + 1 for i in range(len(tecnologias_nuevas))]\n"
     ]
    },
    {
     "data": {
      "text/plain": [
       "(     tecnologia  tec_id\n",
       " 0        Python       1\n",
       " 1           C++       2\n",
       " 2     Cinema 4D       3\n",
       " 3           CRM       4\n",
       " 4         Canva       5\n",
       " ...         ...     ...\n",
       " 2117    AWS EC2    2118\n",
       " 2118   Solidity    2119\n",
       " 2119       Scss    2120\n",
       " 2120      Remix    2121\n",
       " 2121      Astro    2122\n",
       " \n",
       " [2122 rows x 2 columns],\n",
       "                id  tec_id\n",
       " 0     id_tec_3781    1705\n",
       " 1     id_tec_4014     590\n",
       " 2     id_tec_4248    1287\n",
       " 3     id_tec_4284    1287\n",
       " 4     id_tec_3693     445\n",
       " ...           ...     ...\n",
       " 2538  id_man_1246      61\n",
       " 2539  id_man_1247      69\n",
       " 2540  id_man_1247      83\n",
       " 2541  id_man_1247    2122\n",
       " 2542  id_man_1247     274\n",
       " \n",
       " [2543 rows x 2 columns])"
      ]
     },
     "execution_count": 5,
     "metadata": {},
     "output_type": "execute_result"
    }
   ],
   "source": [
    "procesar_tecnologias()"
   ]
  },
  {
   "cell_type": "code",
   "execution_count": null,
   "id": "e0f5a9f5-bf74-40fd-80d0-6d62419891b5",
   "metadata": {},
   "outputs": [],
   "source": [
    "def procesar_habilidades():    \n",
    "    \n",
    "    # Transformar el DataFrame de formato ancho a largo\n",
    "    df_largo = df_habilidades_matricial_actualizacion.melt(id_vars=[\"id\"], var_name=\"habilidad\", value_name=\"presente\")\n",
    "    \n",
    "    # Filtrar solo los valores donde \"presente\" es 1\n",
    "    df_largo = df_largo[df_largo[\"presente\"] == 1].drop(columns=[\"presente\"])\n",
    "    \n",
    "    # Serie solo con las habilidades de la nueva extracción\n",
    "    df_habilidades_nueva_extraccion = pd.DataFrame({\"habilidad\": df_largo[\"habilidad\"].unique()}) \n",
    "    \n",
    "    # Identificar habilidades nuevas a partir del df tecnologias extraído de la query\n",
    "    habilidades_nuevas = df_habilidades_nueva_extraccion[~df_habilidades_nueva_extraccion[\"habilidad\"].isin(df_habilidades_original[\"habilidad\"])]\n",
    "    \n",
    "    ultimo_id_habilidades = df_habilidades_original[\"hab_id\"].max()\n",
    "    habilidades_nuevas[\"hab_id\"] = [ultimo_id_habilidades + i + 1 for i in range(len(habilidades_nuevas))]\n",
    "    \n",
    "    # Concatenar las nuevas habilidades con el DataFrame original\n",
    "    df_habilidades_completo = pd.concat([df_habilidades_original, habilidades_nuevas[[\"hab_id\", \"habilidad\"]]], ignore_index=True)\n",
    "    \n",
    "    df_habilidades_completo[\"hab_id\"] = df_habilidades_completo[\"hab_id\"].astype(int)\n",
    "    \n",
    "    # Relacionar los IDs de habilidades con los IDs originales\n",
    "    df_relacion_habilidades = df_largo.merge(df_habilidades_completo, on=\"habilidad\", how=\"left\").drop(columns=[\"habilidad\"])\n",
    "    \n",
    "    habilidades_nuevas.to_pickle(\"Pickles/nuevas_habilidades.pkl\")######PATH\n",
    "    df_relacion_habilidades.to_pickle(\"Pickles/nuevas_relacion_habilidades.pkl\")######PATH\n",
    "\n",
    "procesar_habilidades()"
   ]
  },
  {
   "cell_type": "code",
   "execution_count": null,
   "id": "5fdfe604-17df-4d9e-adb0-b04f8def5376",
   "metadata": {},
   "outputs": [],
   "source": []
  },
  {
   "cell_type": "code",
   "execution_count": null,
   "id": "64426fd4-f320-46db-91cf-bdddf8b31405",
   "metadata": {},
   "outputs": [],
   "source": []
  },
  {
   "cell_type": "code",
   "execution_count": null,
   "id": "b0b94b8d-e0af-41b9-8b2d-504f415233dc",
   "metadata": {},
   "outputs": [],
   "source": []
  },
  {
   "cell_type": "code",
   "execution_count": null,
   "id": "e2d8b8af-f9a1-4e1f-a8b6-e704286ff376",
   "metadata": {},
   "outputs": [],
   "source": []
  },
  {
   "cell_type": "code",
   "execution_count": null,
   "id": "64ff1d41-bbd8-4bcf-b7b8-1cdd33d905cf",
   "metadata": {},
   "outputs": [],
   "source": []
  },
  {
   "cell_type": "code",
   "execution_count": null,
   "id": "c72ad81f-2f61-4cbd-a7c3-1ccd034101a3",
   "metadata": {},
   "outputs": [],
   "source": []
  }
 ],
 "metadata": {
  "kernelspec": {
   "display_name": "Python 3 (ipykernel)",
   "language": "python",
   "name": "python3"
  },
  "language_info": {
   "codemirror_mode": {
    "name": "ipython",
    "version": 3
   },
   "file_extension": ".py",
   "mimetype": "text/x-python",
   "name": "python",
   "nbconvert_exporter": "python",
   "pygments_lexer": "ipython3",
   "version": "3.12.7"
  }
 },
 "nbformat": 4,
 "nbformat_minor": 5
}
