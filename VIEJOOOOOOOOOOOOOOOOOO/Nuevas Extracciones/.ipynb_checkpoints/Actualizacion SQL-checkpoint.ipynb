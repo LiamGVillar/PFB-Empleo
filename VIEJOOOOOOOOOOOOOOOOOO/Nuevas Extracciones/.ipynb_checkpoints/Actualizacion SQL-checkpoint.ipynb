{
 "cells": [
  {
   "cell_type": "code",
   "execution_count": 1,
   "id": "fa162d2e-f7f9-4160-b475-708dc889573e",
   "metadata": {},
   "outputs": [
    {
     "name": "stdout",
     "output_type": "stream",
     "text": [
      "Añadidas 683 filas en la tabla ofertas.\n",
      "Añadidas 160 filas en la tabla tecnologias.\n",
      "Añadidas 2368 filas en la tabla tecnologias_relacion.\n",
      "No hay datos nuevos para insertar en habilidades.\n",
      "Añadidas 1023 filas en la tabla habilidades_relacion.\n",
      "Añadidas 4314 filas en la tabla idiomas.\n",
      "Añadidas 682 filas en la tabla ciudades.\n",
      "Conexión cerrada. Proceso completado.\n"
     ]
    }
   ],
   "source": [
    "import os\n",
    "import pandas as pd\n",
    "import toml\n",
    "\n",
    "# Verificar el sistema operativo y conectar a la base de datos\n",
    "if os.name == \"posix\":  # Linux, macOS\n",
    "    import mysql.connector  # Usar MySQL en Linux, macOS\n",
    "elif os.name == \"nt\":  # Windows\n",
    "    import pymysql  # Usar PyMySQL en Windows\n",
    "else:\n",
    "    raise Exception(\"Sistema operativo no soportado\")\n",
    "\n",
    "# Cargar las credenciales desde el archivo secrets.toml\n",
    "config = toml.load(\"../.streamlit/secrets.toml\")\n",
    "db_config = config[\"database\"]\n",
    "database = db_config[\"database\"]\n",
    "\n",
    "# Cargar los pickles en DataFrames\n",
    "dfs = {\n",
    "    \"ofertas\": pd.read_pickle(\"../Nuevas Extracciones/Pickles/ofertas_nuevas.pkl\"),\n",
    "    \"tecnologias\": pd.read_pickle(\"../Nuevas Extracciones/Pickles/nuevas_tecnologias.pkl\"),\n",
    "    \"tecnologias_relacion\": pd.read_pickle(\"../Nuevas Extracciones/Pickles/nuevas_relacion_tecnologias.pkl\"),\n",
    "    \"habilidades\": pd.read_pickle(\"../Nuevas Extracciones/Pickles/nuevas_habilidades.pkl\"),\n",
    "    \"habilidades_relacion\": pd.read_pickle(\"../Nuevas Extracciones/Pickles/nuevas_relacion_habilidades.pkl\"),\n",
    "    \"idiomas\": pd.read_pickle(\"../Nuevas Extracciones/Pickles/idiomas_actualizacion.pkl\"),\n",
    "    \"ciudades\": pd.read_pickle(\"../Nuevas Extracciones/Pickles/ciudades_nuevas.pkl\")}\n",
    "\n",
    "# Conexión a la base de datos dependiendo del sistema operativo\n",
    "if os.name == \"posix\":  # Linux/macOS\n",
    "    conn = mysql.connector.connect(\n",
    "        host=db_config[\"host\"],\n",
    "        user=db_config[\"user\"],\n",
    "        password=db_config[\"password\"],\n",
    "        database=database\n",
    "    )\n",
    "elif os.name == \"nt\":  # Windows\n",
    "    conn = pymysql.connect(\n",
    "        host=db_config[\"host\"],\n",
    "        user=db_config[\"user\"],\n",
    "        password=db_config[\"password\"],\n",
    "        database=database,\n",
    "        cursorclass=pymysql.cursors.DictCursor)\n",
    "\n",
    "# Insertar datos en cada tabla\n",
    "for tabla, df in dfs.items():\n",
    "    if df.empty:\n",
    "        print(f\"No hay datos nuevos para insertar en {tabla}.\")\n",
    "        continue\n",
    "    \n",
    "    cursor = conn.cursor()\n",
    "    \n",
    "    # Obtener nombres de columnas de la tabla\n",
    "    cursor.execute(f\"SELECT * FROM {tabla} LIMIT 0;\")\n",
    "    column_names = cursor.column_names\n",
    "    \n",
    "    # Consumir cualquier resultado pendiente para evitar el error\n",
    "    cursor.fetchall()\n",
    "\n",
    "    # Construir consulta de inserción\n",
    "    insert_query = f\"INSERT INTO {tabla} ({', '.join(column_names)}) VALUES ({', '.join(['%s' for _ in column_names])})\"\n",
    "    \n",
    "    # Insertar datos\n",
    "    values = [tuple(row) for row in df.values]\n",
    "    cursor.executemany(insert_query, values)\n",
    "    \n",
    "    conn.commit()\n",
    "    \n",
    "    print(f\"Añadidas {cursor.rowcount} filas en la tabla {tabla}.\")\n",
    "    \n",
    "    cursor.close()\n",
    "\n",
    "# Cerrar conexión\n",
    "conn.close()\n",
    "print(\"Conexión cerrada. Proceso completado.\")\n",
    "\n"
   ]
  },
  {
   "cell_type": "code",
   "execution_count": null,
   "id": "83bc680c-dab2-4f54-bfc7-7ab3a949ba2a",
   "metadata": {},
   "outputs": [],
   "source": []
  },
  {
   "cell_type": "code",
   "execution_count": null,
   "id": "e4d5a3a2-632c-49c9-94f3-e9bdab199e4b",
   "metadata": {},
   "outputs": [],
   "source": []
  },
  {
   "cell_type": "code",
   "execution_count": null,
   "id": "10e913d7-87b7-4c75-aef1-541b96a0f382",
   "metadata": {},
   "outputs": [],
   "source": []
  },
  {
   "cell_type": "code",
   "execution_count": null,
   "id": "0a56ea68-4d88-4620-ae59-728b97b8e003",
   "metadata": {},
   "outputs": [],
   "source": []
  },
  {
   "cell_type": "code",
   "execution_count": null,
   "id": "b237258b-3048-4d34-8822-0b64cf14bf5c",
   "metadata": {},
   "outputs": [],
   "source": []
  },
  {
   "cell_type": "code",
   "execution_count": null,
   "id": "06e6090e-3f5e-42f2-b174-d4e0f55736d3",
   "metadata": {},
   "outputs": [],
   "source": []
  },
  {
   "cell_type": "code",
   "execution_count": null,
   "id": "2bdd1795-b042-4a1b-b718-41c5dde8da95",
   "metadata": {},
   "outputs": [],
   "source": []
  },
  {
   "cell_type": "code",
   "execution_count": null,
   "id": "483998a8-a918-420a-8989-4c5a3163ae76",
   "metadata": {},
   "outputs": [],
   "source": []
  },
  {
   "cell_type": "code",
   "execution_count": null,
   "id": "2de8691e-962c-48f5-b52a-73ba00683b3f",
   "metadata": {},
   "outputs": [],
   "source": []
  },
  {
   "cell_type": "code",
   "execution_count": null,
   "id": "fde56ef6-aef2-4a2e-9c55-4eaf0f765e15",
   "metadata": {},
   "outputs": [],
   "source": []
  },
  {
   "cell_type": "code",
   "execution_count": null,
   "id": "0a9bed01-f90b-418b-a364-114892a4e1eb",
   "metadata": {},
   "outputs": [],
   "source": []
  },
  {
   "cell_type": "code",
   "execution_count": null,
   "id": "df5b7d94-76f9-4b30-9bfb-de20bf50aea9",
   "metadata": {},
   "outputs": [],
   "source": []
  },
  {
   "cell_type": "code",
   "execution_count": null,
   "id": "7384d0d9-6465-4711-8a08-f94d3504bfaa",
   "metadata": {},
   "outputs": [],
   "source": []
  },
  {
   "cell_type": "code",
   "execution_count": null,
   "id": "e56c9314-79e1-49cf-9dbf-16f8acee9139",
   "metadata": {},
   "outputs": [],
   "source": []
  },
  {
   "cell_type": "code",
   "execution_count": null,
   "id": "b51b9783-a56b-422d-b804-172f4a54acb9",
   "metadata": {},
   "outputs": [],
   "source": []
  },
  {
   "cell_type": "code",
   "execution_count": null,
   "id": "e1b3a82a-6d96-49d4-a79d-f4aad91ff994",
   "metadata": {},
   "outputs": [],
   "source": []
  },
  {
   "cell_type": "code",
   "execution_count": null,
   "id": "1f2e2926-9a2a-46eb-a4ef-54995ba2983a",
   "metadata": {},
   "outputs": [],
   "source": []
  },
  {
   "cell_type": "code",
   "execution_count": null,
   "id": "468c1566-2bb0-4f01-b170-df3bca7b31e6",
   "metadata": {},
   "outputs": [],
   "source": []
  },
  {
   "cell_type": "code",
   "execution_count": null,
   "id": "1e389275-0b7f-41ec-ad63-d3b20db49c5a",
   "metadata": {},
   "outputs": [],
   "source": []
  },
  {
   "cell_type": "code",
   "execution_count": null,
   "id": "3cf38dc2-907e-4242-96fb-b8b49e7842ca",
   "metadata": {},
   "outputs": [],
   "source": []
  },
  {
   "cell_type": "code",
   "execution_count": null,
   "id": "2c5f2af6-ec26-4874-8d0f-3620ed1707cf",
   "metadata": {},
   "outputs": [],
   "source": []
  }
 ],
 "metadata": {
  "kernelspec": {
   "display_name": "Python 3 (ipykernel)",
   "language": "python",
   "name": "python3"
  },
  "language_info": {
   "codemirror_mode": {
    "name": "ipython",
    "version": 3
   },
   "file_extension": ".py",
   "mimetype": "text/x-python",
   "name": "python",
   "nbconvert_exporter": "python",
   "pygments_lexer": "ipython3",
   "version": "3.12.7"
  }
 },
 "nbformat": 4,
 "nbformat_minor": 5
}
