{
 "cells": [
  {
   "cell_type": "code",
   "execution_count": 1,
   "id": "48b8a7b2-5741-41e2-9dca-4b9bcaefd13d",
   "metadata": {},
   "outputs": [],
   "source": [
    "import pandas as pd\n",
    "import pickle\n",
    "import toml\n",
    "import mysql.connector"
   ]
  },
  {
   "cell_type": "markdown",
   "id": "c7a09271-369b-466e-9022-ed55a05a94f3",
   "metadata": {},
   "source": [
    "# UNIÓN DE LAS NUEVAS EXTRACCIONES"
   ]
  },
  {
   "cell_type": "code",
   "execution_count": 2,
   "id": "59b21e3f-3b9c-4456-9f87-461ab660f36e",
   "metadata": {},
   "outputs": [],
   "source": [
    "#Cargamos nuevas extracciones limpias.\n",
    "ofertas_nuevas_tecnoempleo = pd.read_pickle(\"Pickles/general_tecnoempleo_limpio.pkl\")\n",
    "ofertas_nuevas_manfred = pd.read_pickle(\"Pickles/manfred_general_limpio_actualizacion.pkl\")"
   ]
  },
  {
   "cell_type": "code",
   "execution_count": 3,
   "id": "2660111b-2172-437f-9654-ae9e84f8da20",
   "metadata": {},
   "outputs": [],
   "source": [
    "def fusion_nuevas_extracciones_general(ofertas_nuevas_tecnoempleo, ofertas_nuevas_manfred):\n",
    "    ofertas_nuevas_tecnoempleo = ofertas_nuevas_tecnoempleo.rename(columns={\"Título\": \"titulo\", \"Nombre de empresa\": \"empresa\", \n",
    "                                               \"Ciudad\": \"ciudad\", \"Salario_desde\": \"salario_desde\", \n",
    "                                               \"Salario_hasta\": \"salario_hasta\", \"Jornada\": \"jornada_tipo\",\n",
    "                                               \"Teletrabajo\": \"teletrabajo\", \"Time Stamp\": \"timestamp\", \n",
    "                                               \"Fecha publicacion\" : \"fecha_publicacion\", \n",
    "                                               \"Imprescindible Residir\" : \"imprescindible_residir\", \n",
    "                                               \"Funciones\" : \"funciones\", \"Nivel Profesional\" : \"nivel_profesional\", \n",
    "                                               \"CVs inscritos en el proceso\" : \"cvs_inscritos\", \n",
    "                                               \"Otras Provincias\" : \"otras_provincias\", \"Número de puestos\" : \"vacantes\", \n",
    "                                               \"Personas a cargo\" : \"personas_a_cargo\", \"+ Países\" : \"otros_paises\",\n",
    "                                               \"URL\" : \"url\", \"Experiencia\" : \"experiencia\", \n",
    "                                               \"Tipo contrato\" : \"contrato_tipo\", \"Formación Mínima\" : \"formacion_minima\"})\n",
    "    ofertas_nuevas_manfred = ofertas_nuevas_manfred.rename(columns={\"Presencial\": \"ciudad\", \"Salario_desde\": \"salario_desde\", \n",
    "                                                                    \"Salario_hasta\": \"salario_hasta\", \"Jornada\": \"jornada_tipo\",\n",
    "                                                                    \"Teletrabajo\": \"teletrabajo\", \"fecha_extraccion\" : \"timestamp\"}) \n",
    "    ofertas_nuevas_tecnoempleo.drop(columns = [\"Incentivos\", \"Info Otros Países\", \"otros_paises\"], inplace = True)\n",
    "    ofertas_nuevas_fusion = pd.concat([ofertas_nuevas_tecnoempleo, ofertas_nuevas_manfred], axis=0, join='outer', ignore_index=True) \n",
    "    orden_columnas_fusion = [\"id\",\"empresa\",\"titulo\",\"ciudad\", \"salario_desde\",\n",
    "                             \"salario_hasta\",\"variable\", \"vacaciones\", \"teletrabajo\",\n",
    "                             \"jornada_tipo\", \"turno_continuo\", \"imprescindible_residir\", \n",
    "                             \"funciones\", \"contrato_tipo\", \"nivel_profesional\", \n",
    "                             \"formacion_minima\", \"personas_a_cargo\", \"experiencia\", \n",
    "                             \"vacantes\", \"cvs_inscritos\", \"oferta_activada\", \n",
    "                             \"fecha_publicacion\", \"timestamp\", \"url\"] \n",
    "    ofertas_nuevas_fusion = ofertas_nuevas_fusion[orden_columnas_fusion] \n",
    "    ofertas_nuevas_fusion[\"teletrabajo\"] = ofertas_nuevas_fusion[\"teletrabajo\"].apply(lambda x : \"Remoto\" if x == 100 or x == \"Remoto\"\n",
    "                                                                                      else \"Presencial\" if x == 0 or x == \"Presencial\" \n",
    "                                                                                      else\"Hibrido\") \n",
    "    ofertas_nuevas_fusion[\"jornada_tipo\"] = ofertas_nuevas_fusion[\"jornada_tipo\"].astype(str).str.title()\n",
    "    ofertas_nuevas_fusion[\"fecha_publicacion\"] = pd.to_datetime(\n",
    "        ofertas_nuevas_fusion[\"fecha_publicacion\"]).dt.strftime(\"%Y-%m-%d %H:%M:%S\")\n",
    "    ofertas_nuevas_fusion[\"timestamp\"] = pd.to_datetime(\n",
    "        ofertas_nuevas_fusion[\"timestamp\"]).dt.strftime(\"%Y-%m-%d %H:%M:%S\")\n",
    "    ofertas_nuevas_fusion[\"oferta_activada\"] = ofertas_nuevas_fusion[\"oferta_activada\"].fillna(1).astype(int)\n",
    "    \n",
    "    ofertas_nuevas_fusion.to_pickle(\"Pickles/ofertas_nuevas.pkl\")\n",
    "\n",
    "    return ofertas_nuevas_fusion"
   ]
  },
  {
   "cell_type": "markdown",
   "id": "47b9d0e1-35d2-414d-954f-0e9da40d8e04",
   "metadata": {},
   "source": [
    "# NUEVAS HABILIDADES, TECNOLOGIAS Y CIUDADES"
   ]
  },
  {
   "cell_type": "code",
   "execution_count": null,
   "id": "87685fae-df49-463a-89e8-e553ef0e7ee8",
   "metadata": {},
   "outputs": [],
   "source": [
    "#Queries a la base de datos para obtener las habilidaes, tecnologias y sus relaciones, y las ciudades.\n",
    "\n",
    "config = toml.load(\"../.streamlit/secrets.toml\")\n",
    "db_config = config[\"database\"]\n",
    "\n",
    "db = mysql.connector.connect(\n",
    "    host=db_config[\"host\"],\n",
    "    user=db_config[\"user\"],\n",
    "    password=db_config[\"password\"],\n",
    "    database=db_config[\"database\"]\n",
    ")\n",
    "cursor = db.cursor()\n",
    "\n",
    "query_tecnologias = \"SELECT * FROM tecnologias;\"\n",
    "cursor.execute(query_tecnologias)\n",
    "tecnologias_data = cursor.fetchall()\n",
    "df_tecnologias_original = pd.DataFrame(tecnologias_data, columns=cursor.column_names)\n",
    "\n",
    "query_tecnologias_relacion = \"SELECT * FROM tecnologias_relacion;\"\n",
    "cursor.execute(query_tecnologias_relacion)\n",
    "tecnologias_relacion_data = cursor.fetchall()\n",
    "df_tecnologias_relacion_original = pd.DataFrame(tecnologias_relacion_data, columns=cursor.column_names)\n",
    "\n",
    "query_habilidades = \"SELECT * FROM habilidades;\"\n",
    "cursor.execute(query_habilidades)\n",
    "habilidades_data = cursor.fetchall()\n",
    "df_habilidades_original = pd.DataFrame(habilidades_data, columns=cursor.column_names)\n",
    "\n",
    "query_habilidades_relacion = \"SELECT * FROM habilidades_relacion;\"\n",
    "cursor.execute(query_habilidades_relacion)\n",
    "habilidades_relacion_data = cursor.fetchall()\n",
    "df_habilidades_relacion_original = pd.DataFrame(habilidades_relacion_data, columns=cursor.column_names)\n",
    "\n",
    "query_ciudades = \"\"\"\n",
    "SELECT ciudad \n",
    "FROM ciudades_coordenadas;\n",
    "\"\"\"\n",
    "cursor.execute(query_ciudades)\n",
    "ciudades_data = cursor.fetchall()\n",
    "df_ciudades_original = pd.DataFrame(ciudades_data, columns=[\"ciudad\"])  # Especifica el nombre de la columna\n",
    "\n",
    "cursor.close()\n",
    "db.close()"
   ]
  },
  {
   "cell_type": "code",
   "execution_count": null,
   "id": "2b35b662-9137-492b-993b-9e19cee727f7",
   "metadata": {},
   "outputs": [],
   "source": [
    "#Cargamos los pickles de habilidades y tecnologias matriciales.\n",
    "\n",
    "manfred_habilidades_matricial = pd.read_pickle(\"Pickles/manfred_habilidades_matricial_actualizacion.pkl\")######PATH\n",
    "manfred_tecnologias_matricial = pd.read_pickle(\"Pickles/manfred_programas_matricial_actualizacion.pkl\")######PATH\n",
    "tecnoempleo_habilidades_matricial = pd.read_pickle(\"Pickles/habilidades_matricial_tecnoempleo_actualizacion.pkl\")######PATH\n",
    "tecnoempleo_tecnologias_matricial = pd.read_pickle(\"Pickles/tecnologias_matricial_tecnoempleo_actualizacion.pkl\")######PATH\n",
    "df_tecnologias_matricial_actualizacion = pd.concat([tecnoempleo_tecnologias_matricial, manfred_tecnologias_matricial], ignore_index=True).fillna(0)\n",
    "df_habilidades_matricial_actualizacion = pd.concat([tecnoempleo_habilidades_matricial, manfred_habilidades_matricial], ignore_index=True).fillna(0)"
   ]
  },
  {
   "cell_type": "markdown",
   "id": "7b1b8719-ad5a-460c-b619-ddb8579d92fa",
   "metadata": {},
   "source": [
    "## Tecnologías"
   ]
  },
  {
   "cell_type": "code",
   "execution_count": null,
   "id": "dac90773-ef2c-4332-8f02-b4fc74ee1b49",
   "metadata": {},
   "outputs": [],
   "source": [
    "def procesar_tecnologias():\n",
    "        \n",
    "    # Transformar el DataFrame de formato ancho a largo\n",
    "    df_largo = df_tecnologias_matricial_actualizacion.melt(id_vars=[\"id\"], var_name=\"tecnologia\", value_name=\"presente\")\n",
    "            \n",
    "    # Filtrar solo los valores donde \"presente\" es 1\n",
    "    df_largo = df_largo[df_largo[\"presente\"] == 1].drop(columns=[\"presente\"])\n",
    "            \n",
    "    # Serie solo con las tecnologías de la nueva extracción\n",
    "    df_tecnologias_nueva_extraccion = pd.DataFrame({\"tecnologia\": df_largo[\"tecnologia\"].unique()}) \n",
    "    \n",
    "    # Identificar tecnologías nuevas a partir del df tecnologias extraído de la query\n",
    "    tecnologias_nuevas = df_tecnologias_nueva_extraccion[~df_tecnologias_nueva_extraccion[\"tecnologia\"].isin(df_tecnologias_original[\"tecnologia\"])]\n",
    "    #aqui necesito la lista completa de tecnologias\n",
    "    ultimo_id_tecnologias = df_tecnologias_original[\"tec_id\"].max()\n",
    "    #aqui el ultimo id de tecnologias\n",
    "    tecnologias_nuevas[\"tec_id\"] = [ultimo_id_tecnologias + i + 1 for i in range(len(tecnologias_nuevas))]\n",
    "    \n",
    "    # Concatenar las nuevas tecnologías con el DataFrame original\n",
    "    df_tecnologias_completo = pd.concat([df_tecnologias_original, tecnologias_nuevas[[\"tec_id\", \"tecnologia\"]]], ignore_index=True)\n",
    "    df_tecnologias_completo[\"tec_id\"] = df_tecnologias_completo[\"tec_id\"].astype(int)\n",
    "    \n",
    "    # Relacionar los IDs de tecnologías con los IDs originales\n",
    "    \n",
    "    df_relacion_tecnologias = df_largo.merge(df_tecnologias_completo, on=\"tecnologia\", how=\"left\").drop(columns=[\"tecnologia\"])\n",
    "    \n",
    "    \n",
    "    # Guardar los resultados en archivos CSV\n",
    "    tecnologias_nuevas.to_pickle(\"Pickles/nuevas_tecnologias.pkl\") ######PATH\n",
    "    df_relacion_tecnologias.to_pickle(\"Pickles/nuevas_relacion_tecnologias.pkl\") ######PATH\n",
    "\n",
    "procesar_tecnologias()"
   ]
  },
  {
   "cell_type": "markdown",
   "id": "adedd1fe-cec8-4f1b-9a89-263b619c6b8a",
   "metadata": {},
   "source": [
    "## Habilidades"
   ]
  },
  {
   "cell_type": "code",
   "execution_count": null,
   "id": "17a86e53-dd66-4ef9-b987-40fc9a12d0bb",
   "metadata": {},
   "outputs": [],
   "source": [
    "def procesar_habilidades():    \n",
    "    \n",
    "    # Transformar el DataFrame de formato ancho a largo\n",
    "    df_largo = df_habilidades_matricial_actualizacion.melt(id_vars=[\"id\"], var_name=\"habilidad\", value_name=\"presente\")\n",
    "    \n",
    "    # Filtrar solo los valores donde \"presente\" es 1\n",
    "    df_largo = df_largo[df_largo[\"presente\"] == 1].drop(columns=[\"presente\"])\n",
    "    \n",
    "    # Serie solo con las habilidades de la nueva extracción\n",
    "    df_habilidades_nueva_extraccion = pd.DataFrame({\"habilidad\": df_largo[\"habilidad\"].unique()}) \n",
    "    \n",
    "    # Identificar habilidades nuevas a partir del df tecnologias extraído de la query\n",
    "    habilidades_nuevas = df_habilidades_nueva_extraccion[~df_habilidades_nueva_extraccion[\"habilidad\"].isin(df_habilidades_original[\"habilidad\"])]\n",
    "    \n",
    "    ultimo_id_habilidades = df_habilidades_original[\"hab_id\"].max()\n",
    "    habilidades_nuevas[\"hab_id\"] = [ultimo_id_habilidades + i + 1 for i in range(len(habilidades_nuevas))]\n",
    "    \n",
    "    # Concatenar las nuevas habilidades con el DataFrame original\n",
    "    df_habilidades_completo = pd.concat([df_habilidades_original, habilidades_nuevas[[\"hab_id\", \"habilidad\"]]], ignore_index=True)\n",
    "    \n",
    "    df_habilidades_completo[\"hab_id\"] = df_habilidades_completo[\"hab_id\"].astype(int)\n",
    "    \n",
    "    # Relacionar los IDs de habilidades con los IDs originales\n",
    "    df_relacion_habilidades = df_largo.merge(df_habilidades_completo, on=\"habilidad\", how=\"left\").drop(columns=[\"habilidad\"])\n",
    "    \n",
    "    habilidades_nuevas.to_pickle(\"Pickles/nuevas_habilidades.pkl\")######PATH\n",
    "    df_relacion_habilidades.to_pickle(\"Pickles/nuevas_relacion_habilidades.pkl\")######PATH\n",
    "\n",
    "procesar_habilidades()"
   ]
  },
  {
   "cell_type": "markdown",
   "id": "caee90c2-6e5f-4df2-8476-85d88edbfb21",
   "metadata": {},
   "source": [
    "## Ciudades"
   ]
  },
  {
   "cell_type": "code",
   "execution_count": null,
   "id": "58b34d5f-569d-4097-bcc2-05512ef054fe",
   "metadata": {},
   "outputs": [],
   "source": [
    "ofertas_nuevas = pd.read_pickle(\"Pickles/ofertas_nuevas.pkl\")\n",
    "ciudades_nueva_extraccion = ofertas_nuevas[[\"id\", \"ciudad\"]]  # Extraemos las columnas necesarias del DataFrame original"
   ]
  },
  {
   "cell_type": "code",
   "execution_count": null,
   "id": "b93593a8-4150-4de4-b798-09b5001f71bf",
   "metadata": {},
   "outputs": [],
   "source": [
    "def ciudades_nuevas_procesar(row):\n",
    "    if pd.notna(row[\"ciudad\"]) and (\" OR \" in row[\"ciudad\"] or \" O \" in row[\"ciudad\"]):\n",
    "        ciudades = [ciudad.strip() for ciudad in row[\"ciudad\"].replace(\" O \", \" OR \").split(\" OR \")]\n",
    "        return pd.DataFrame({\n",
    "            \"id\": [row[\"id\"]] * len(ciudades),\n",
    "            \"ciudades\": ciudades})\n",
    "    else:\n",
    "        return pd.DataFrame({\"id\": [row[\"id\"]], \"ciudades\": [row[\"ciudad\"]]})\n",
    "\n",
    "ciudades_nuevas = pd.concat(ciudades_nueva_extraccion.apply(ciudades_nuevas_procesar, axis=1).tolist(), ignore_index=True)\n",
    "ciudades_nuevas[\"ciudades\"] = ciudades_nuevas[\"ciudades\"].apply(lambda x: x.title() if isinstance(x, str) else x)\n",
    "ciudades_nuevas.to_pickle(\"Pickles/ciudades_nuevas.pkl\")"
   ]
  },
  {
   "cell_type": "code",
   "execution_count": null,
   "id": "b8aaab9c-cec9-43c5-89a1-f8048c4fb487",
   "metadata": {},
   "outputs": [],
   "source": []
  },
  {
   "cell_type": "code",
   "execution_count": null,
   "id": "fc5dae83-7158-4304-afc6-a7564a70ebb5",
   "metadata": {},
   "outputs": [],
   "source": []
  },
  {
   "cell_type": "code",
   "execution_count": null,
   "id": "b6ca1b06-4be1-495e-85b1-c7acae05fdc7",
   "metadata": {},
   "outputs": [],
   "source": []
  },
  {
   "cell_type": "code",
   "execution_count": null,
   "id": "4a01caf0-b030-4b7e-90e6-1c5adcee1f54",
   "metadata": {},
   "outputs": [],
   "source": []
  },
  {
   "cell_type": "code",
   "execution_count": null,
   "id": "396b8a5b-0218-42fd-baca-2f314b2c7472",
   "metadata": {},
   "outputs": [],
   "source": []
  },
  {
   "cell_type": "code",
   "execution_count": null,
   "id": "91978b56-7394-44a3-ab41-2b11eace1b53",
   "metadata": {},
   "outputs": [],
   "source": []
  },
  {
   "cell_type": "code",
   "execution_count": null,
   "id": "de64cabd-730c-46c4-84f7-7df012d328ed",
   "metadata": {},
   "outputs": [],
   "source": []
  },
  {
   "cell_type": "code",
   "execution_count": null,
   "id": "0fcc880b-712f-4439-aceb-91307fedde36",
   "metadata": {},
   "outputs": [],
   "source": []
  },
  {
   "cell_type": "code",
   "execution_count": null,
   "id": "16930313-5863-49ca-8436-8c1d7e849cac",
   "metadata": {},
   "outputs": [],
   "source": []
  },
  {
   "cell_type": "code",
   "execution_count": null,
   "id": "1ef4e877-857e-4fbc-8232-ea5c8cbec285",
   "metadata": {},
   "outputs": [],
   "source": []
  },
  {
   "cell_type": "code",
   "execution_count": null,
   "id": "7dd3931f-dce1-4f45-b7d4-90f8a10163b1",
   "metadata": {},
   "outputs": [],
   "source": []
  },
  {
   "cell_type": "code",
   "execution_count": null,
   "id": "17c45e26-7d3b-4398-8ea9-b5f32730f6d2",
   "metadata": {},
   "outputs": [],
   "source": []
  }
 ],
 "metadata": {
  "kernelspec": {
   "display_name": "Python 3 (ipykernel)",
   "language": "python",
   "name": "python3"
  },
  "language_info": {
   "codemirror_mode": {
    "name": "ipython",
    "version": 3
   },
   "file_extension": ".py",
   "mimetype": "text/x-python",
   "name": "python",
   "nbconvert_exporter": "python",
   "pygments_lexer": "ipython3",
   "version": "3.12.7"
  }
 },
 "nbformat": 4,
 "nbformat_minor": 5
}
