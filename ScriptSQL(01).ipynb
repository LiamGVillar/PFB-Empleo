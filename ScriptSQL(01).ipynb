{
 "cells": [
  {
   "cell_type": "markdown",
   "metadata": {},
   "source": [
    "DROP DATABASE IF EXISTS ofertas_empleo;\n",
    "\n",
    "CREATE DATABASE ofertas_empleo;\n",
    "\n",
    "USE ofertas_empleo;\n",
    "\n",
    "CREATE TABLE Ciudades(\n",
    "\tciudad,\n",
    "    latitud,\n",
    "    longitud,\n",
    "    PRIMARY KEY (ciudad));\n",
    "    \n",
    "CREATE TABLE Tecnologias(\n",
    "\tprograma_id,\n",
    "    programa,\n",
    "    PRIMARY KEY (programa_id));\n",
    "    \n",
    "    \n",
    "CREATE TABLE Empresas(\n",
    "\tempresa_id,\n",
    "    nombre_empresa,\n",
    "    ciudad,\n",
    "    PRIMARY KEY (empresa_id),\n",
    "    FOREIGN KEY (ciudad) REFERENCES Ciudades(ciudad));\n",
    "    \n",
    "CREATE TABLE Requisitos_Oferta(\n",
    "\tid_,\n",
    "    programa_id,\n",
    "    nivel,\n",
    "    PRIMARY KEY (id_),\n",
    "    FOREIGN KEY (programa_id) REFERENCES Tecnologias(programa_id));\n",
    "\n",
    "CREATE TABLE Ofertas(\n",
    "\tid_,\n",
    "    empresa_id,\n",
    "    rol,\n",
    "    salario,\n",
    "    fecha_publicación,\n",
    "    activa,\n",
    "    porcentaje_remoto,\n",
    "    residencia,\n",
    "    idiomas,\n",
    "    horario,\n",
    "    web_origen,\n",
    "    link,\n",
    "    PRIMARY KEY (id_),\n",
    "    FOREIGN KEY (empresa_id) REFERENCES Empresas(empresa_id));"
   ]
  }
 ],
 "metadata": {
  "language_info": {
   "name": "python"
  }
 },
 "nbformat": 4,
 "nbformat_minor": 2
}
