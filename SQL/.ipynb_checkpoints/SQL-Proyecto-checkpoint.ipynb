{
 "cells": [
  {
   "cell_type": "code",
   "execution_count": 34,
   "id": "fc301eb6-2565-44d5-80eb-ecd01b511e86",
   "metadata": {},
   "outputs": [],
   "source": [
    "import pandas as pd\n",
    "import mysql\n",
    "import mysql.connector\n",
    "import toml"
   ]
  },
  {
   "cell_type": "code",
   "execution_count": null,
   "id": "657b9571-676c-4a16-9fe8-66f80d08cabc",
   "metadata": {},
   "outputs": [],
   "source": []
  },
  {
   "cell_type": "code",
   "execution_count": 35,
   "id": "829db0b1-a641-414b-bf31-5f5e42d49658",
   "metadata": {},
   "outputs": [],
   "source": [
    "queries_creacion = [] #Lista con las queries para crear cada tabla\n",
    "query_crear_tabla_ofertas = \"\"\"\n",
    "CREATE TABLE ofertas (\n",
    "    id_oferta VARCHAR(255) PRIMARY KEY,\n",
    "    empresa VARCHAR(255),\n",
    "    titulo VARCHAR(255),\n",
    "    ciudad VARCHAR(255),\n",
    "    salario_desde NUMERIC,\n",
    "    salario_hasta NUMERIC,\n",
    "    variabe NUMERIC,\n",
    "    vacaciones NUMERIC,\n",
    "    teletrabajo ENUM(\"Remoto\", \"Hibrido\", \"Presencial\"),\n",
    "    jornada_tipo VARCHAR(255),\n",
    "    turno_continuo BOOLEAN NULL,\n",
    "    imprescindible_residir ENUM(\"País Puesto\", \"No requerido\", \"Provincia Puesto\") NULL,\n",
    "    funciones VARCHAR(255),\n",
    "    contrato_tipo VARCHAR(255),\n",
    "    nivel_profesional VARCHAR(255),\n",
    "    formacion_minima VARCHAR(255),\n",
    "    personas_a_cargo TINYINT UNSIGNED NULL,\n",
    "    experiencia VARCHAR (255),\n",
    "    vacantes TINYINT UNSIGNED NULL,\n",
    "    cvs_inscritos NUMERIC,\n",
    "    oferta_activada BOOLEAN,\n",
    "    fecha_publicacion DATETIME NULL,\n",
    "    timestamp DATETIME NULL,\n",
    "    url TEXT\n",
    ");\n",
    "\"\"\"\n",
    "queries_creacion.append(query_crear_tabla_ofertas)"
   ]
  },
  {
   "cell_type": "code",
   "execution_count": 36,
   "id": "f988fafd-ac75-4c7a-8d45-2e839ab85c33",
   "metadata": {},
   "outputs": [],
   "source": [
    "query_crear_tabla_tecnologias = \"\"\"\n",
    "CREATE TABLE tecnologias (\n",
    "    tecnologia VARCHAR (255),\n",
    "    tec_id INT UNSIGNED PRIMARY KEY\n",
    ");\n",
    "\"\"\"\n",
    "queries_creacion.append(query_crear_tabla_tecnologias)"
   ]
  },
  {
   "cell_type": "code",
   "execution_count": 37,
   "id": "84e56be0-2938-460f-a965-3305d2a26c3c",
   "metadata": {},
   "outputs": [],
   "source": [
    "query_crear_tabla_tecnologias_relacion = \"\"\"\n",
    "CREATE TABLE tecnologias_relacion(\n",
    "    id_oferta VARCHAR(255),\n",
    "    tec_id INT UNSIGNED,\n",
    "    FOREIGN KEY (id_oferta) REFERENCES ofertas(id_oferta),\n",
    "    FOREIGN KEY (tec_id) REFERENCES tecnologias(tec_id)\n",
    ");\n",
    "\"\"\"\n",
    "queries_creacion.append(query_crear_tabla_tecnologias_relacion)"
   ]
  },
  {
   "cell_type": "code",
   "execution_count": 38,
   "id": "35eb1b4f-d6cd-4a9d-9a61-c569fe3d40a8",
   "metadata": {},
   "outputs": [],
   "source": [
    "query_crear_tabla_habilidades = \"\"\"\n",
    "CREATE TABLE habilidades (\n",
    "    habilidad VARCHAR (255),\n",
    "    hab_id INT UNSIGNED PRIMARY KEY\n",
    ");\n",
    "\"\"\"\n",
    "queries_creacion.append(query_crear_tabla_habilidades)"
   ]
  },
  {
   "cell_type": "code",
   "execution_count": 39,
   "id": "97fc2339-9f6a-4995-b3c3-b5170951abfb",
   "metadata": {},
   "outputs": [],
   "source": [
    "query_crear_tabla_habilidades_relacion = \"\"\"\n",
    "CREATE TABLE habilidades_relacion(\n",
    "    id_oferta VARCHAR(255),\n",
    "    hab_id INT UNSIGNED,\n",
    "    FOREIGN KEY (id_oferta) REFERENCES ofertas(id_oferta),\n",
    "    FOREIGN KEY (hab_id) REFERENCES habilidades(hab_id)\n",
    ");\n",
    "\"\"\"\n",
    "queries_creacion.append(query_crear_tabla_habilidades_relacion)"
   ]
  },
  {
   "cell_type": "code",
   "execution_count": 40,
   "id": "f3f9c61e-3423-4322-873f-7027a31cedd2",
   "metadata": {},
   "outputs": [],
   "source": [
    "query_crear_tabla_idiomas = \"\"\"\n",
    "CREATE TABLE idiomas (\n",
    "    id_oferta VARCHAR(255),\n",
    "    idioma VARCHAR (30),\n",
    "    nivel ENUM(\"Bajo\", \"Medio\", \"Alto\", \"Excelente\") NULL,\n",
    "    FOREIGN KEY (id_oferta) REFERENCES ofertas(id_oferta)\n",
    ");\n",
    "\"\"\"\n",
    "queries_creacion.append(query_crear_tabla_idiomas)"
   ]
  },
  {
   "cell_type": "code",
   "execution_count": 41,
   "id": "dd2a75ca-db39-44f9-b768-bd6055477b06",
   "metadata": {},
   "outputs": [],
   "source": [
    "query_crear_tabla_ciudades_coordenadas = \"\"\"\n",
    "CREATE TABLE ciudades_coordenadas (\n",
    "    ciudad VARCHAR(255) PRIMARY KEY,\n",
    "    pais VARCHAR(255),\n",
    "    comunidad_autonoma VARCHAR(255),\n",
    "    latitud DECIMAL(9, 6),\n",
    "    longitud DECIMAL(9, 6)\n",
    ");\n",
    "\"\"\"\n",
    "queries_creacion.append(query_crear_tabla_ciudades_coordenadas)"
   ]
  },
  {
   "cell_type": "code",
   "execution_count": 42,
   "id": "67ccfd03-c426-46b7-81e8-6fc6bdb47cf6",
   "metadata": {},
   "outputs": [],
   "source": [
    "query_crear_tabla_ciudades = \"\"\"\n",
    "CREATE TABLE ciudades (\n",
    "    id_oferta VARCHAR(255),\n",
    "    ciudad VARCHAR(255),\n",
    "    FOREIGN KEY (id_oferta) REFERENCES ofertas(id_oferta),\n",
    "    FOREIGN KEY (ciudad) REFERENCES ciudades_coordenadas(ciudad)\n",
    ");\n",
    "\"\"\"\n",
    "queries_creacion.append(query_crear_tabla_ciudades)"
   ]
  },
  {
   "cell_type": "code",
   "execution_count": 43,
   "id": "00cf11e5-7462-4e44-82db-660ad93094fe",
   "metadata": {},
   "outputs": [],
   "source": [
    "config = toml.load(\"../.streamlit/secrets.toml\") \n",
    "db_config = config[\"database\"] \n",
    "nombre_base_de_datos = db_config[\"database\"] \n",
    "\n",
    "db = mysql.connector.connect(host=db_config[\"host\"],\n",
    "                             user=db_config[\"user\"],\n",
    "                             password=db_config[\"password\"],\n",
    "                             database=nombre_base_de_datos)\n",
    "cursor = db.cursor()\n",
    "cursor.execute(f\"DROP DATABASE IF EXISTS {nombre_base_de_datos};\")\n",
    "cursor.execute(f\"CREATE DATABASE {nombre_base_de_datos};\")\n",
    "cursor.close()\n",
    "db.close()"
   ]
  },
  {
   "cell_type": "code",
   "execution_count": 44,
   "id": "136dab56-bcb4-4d2b-8d70-a1dbe0fc5d5b",
   "metadata": {},
   "outputs": [],
   "source": [
    "for query in queries_creacion: \n",
    "\n",
    "    db = mysql.connector.connect(host=db_config[\"host\"],\n",
    "                             user=db_config[\"user\"],\n",
    "                             password=db_config[\"password\"],\n",
    "                             database=db_config[\"database\"])    \n",
    "\n",
    "   \n",
    "    cursor = db.cursor()\n",
    "    cursor.execute(query)\n",
    "    cursor.fetchall()\n",
    "    cursor.close()\n",
    "    db.close()    "
   ]
  },
  {
   "cell_type": "code",
   "execution_count": 45,
   "id": "d95c4e4a-d5a9-4843-9fdf-5767bedf13b6",
   "metadata": {},
   "outputs": [],
   "source": [
    "df_tecnologias = pd.read_csv(\"../CSV/CSV_finales/tecnologias_final.csv\")\n",
    "df_tecnologias_relacion = pd.read_csv(\"../CSV/CSV_finales/tecnologias_relacion_final.csv\")\n",
    "df_habilidades = pd.read_csv(\"../CSV/CSV_finales/habilidades_final.csv\")\n",
    "df_habilidades_relacion = pd.read_csv(\"../CSV/CSV_finales/habilidades_relacion_final.csv\")\n",
    "df_ofertas = pd.read_csv(\"../CSV/CSV_finales/ofertas_final.csv\")\n",
    "df_idiomas = pd.read_csv(\"../CSV/CSV_finales/idiomas.csv\")\n",
    "df_ciudades = pd.read_csv(\"../CSV/CSV_finales/resultado_presencial.csv\")\n",
    "df_coordenadas = pd.read_csv(\"../CSV/CSV_finales/ciudades_coordenadas.csv\")"
   ]
  },
  {
   "cell_type": "code",
   "execution_count": 46,
   "id": "c97b8b1e-b9d8-4d6f-91eb-f198b3c282d9",
   "metadata": {},
   "outputs": [],
   "source": [
    "df_coordenadas.drop_duplicates(inplace=True)"
   ]
  },
  {
   "cell_type": "code",
   "execution_count": 47,
   "id": "0095d904-7f5c-45e8-ab8a-8227169a2ca8",
   "metadata": {},
   "outputs": [],
   "source": [
    "df_ciudades[\"ciudades\"] = df_ciudades[\"ciudades\"].str.title()\n",
    "df_ciudades.dropna(inplace=True)\n",
    "df_ciudades = df_ciudades[~df_ciudades.map(lambda x: x == 'Rep. De Macedonia').any(axis=1)]\n"
   ]
  },
  {
   "cell_type": "code",
   "execution_count": 48,
   "id": "73599eac-03fb-4ee2-9692-d5d610171ec3",
   "metadata": {},
   "outputs": [],
   "source": [
    "tablas = [\"ofertas\", \"tecnologias\", \"tecnologias_relacion\", \"habilidades\", \n",
    "          \"habilidades_relacion\", \"idiomas\", \"ciudades_coordenadas\", \"ciudades\"]\n",
    "dfs = [df_ofertas, df_tecnologias, df_tecnologias_relacion, df_habilidades, \n",
    "       df_habilidades_relacion, df_idiomas, df_ciudades_coordenadas, df_ciudades]"
   ]
  },
  {
   "cell_type": "code",
   "execution_count": null,
   "id": "2be8cb23-da91-4bc6-873d-b233ab32a200",
   "metadata": {},
   "outputs": [],
   "source": [
    "#Cambiar nans a NONE\n",
    "for tabla, df in zip(tablas, dfs):\n",
    "    locals()[tabla] = df.replace([np.nan], [None])"
   ]
  },
  {
   "cell_type": "code",
   "execution_count": 49,
   "id": "26efb807-5e29-4406-8edc-1102bd7aaad6",
   "metadata": {},
   "outputs": [
    {
     "ename": "ProgrammingError",
     "evalue": "1054 (42S22): Unknown column 'nan' in 'field list'",
     "output_type": "error",
     "traceback": [
      "\u001b[0;31m---------------------------------------------------------------------------\u001b[0m",
      "\u001b[0;31mMySQLInterfaceError\u001b[0m                       Traceback (most recent call last)",
      "File \u001b[0;32m~/PFB-Empleo/env/lib/python3.12/site-packages/mysql/connector/connection_cext.py:755\u001b[0m, in \u001b[0;36mCMySQLConnection.cmd_query\u001b[0;34m(self, query, raw, buffered, raw_as_string, **kwargs)\u001b[0m\n\u001b[1;32m    754\u001b[0m         query \u001b[38;5;241m=\u001b[39m query\u001b[38;5;241m.\u001b[39mencode(\u001b[38;5;124m\"\u001b[39m\u001b[38;5;124mutf-8\u001b[39m\u001b[38;5;124m\"\u001b[39m)\n\u001b[0;32m--> 755\u001b[0m     \u001b[38;5;28;43mself\u001b[39;49m\u001b[38;5;241;43m.\u001b[39;49m\u001b[43m_cmysql\u001b[49m\u001b[38;5;241;43m.\u001b[39;49m\u001b[43mquery\u001b[49m\u001b[43m(\u001b[49m\n\u001b[1;32m    756\u001b[0m \u001b[43m        \u001b[49m\u001b[43mquery\u001b[49m\u001b[43m,\u001b[49m\n\u001b[1;32m    757\u001b[0m \u001b[43m        \u001b[49m\u001b[43mraw\u001b[49m\u001b[38;5;241;43m=\u001b[39;49m\u001b[43mraw\u001b[49m\u001b[43m,\u001b[49m\n\u001b[1;32m    758\u001b[0m \u001b[43m        \u001b[49m\u001b[43mbuffered\u001b[49m\u001b[38;5;241;43m=\u001b[39;49m\u001b[43mbuffered\u001b[49m\u001b[43m,\u001b[49m\n\u001b[1;32m    759\u001b[0m \u001b[43m        \u001b[49m\u001b[43mraw_as_string\u001b[49m\u001b[38;5;241;43m=\u001b[39;49m\u001b[43mraw_as_string\u001b[49m\u001b[43m,\u001b[49m\n\u001b[1;32m    760\u001b[0m \u001b[43m        \u001b[49m\u001b[43mquery_attrs\u001b[49m\u001b[38;5;241;43m=\u001b[39;49m\u001b[38;5;28;43mself\u001b[39;49m\u001b[38;5;241;43m.\u001b[39;49m\u001b[43mquery_attrs\u001b[49m\u001b[43m,\u001b[49m\n\u001b[1;32m    761\u001b[0m \u001b[43m    \u001b[49m\u001b[43m)\u001b[49m\n\u001b[1;32m    762\u001b[0m \u001b[38;5;28;01mexcept\u001b[39;00m MySQLInterfaceError \u001b[38;5;28;01mas\u001b[39;00m err:\n",
      "\u001b[0;31mMySQLInterfaceError\u001b[0m: Unknown column 'nan' in 'field list'",
      "\nThe above exception was the direct cause of the following exception:\n",
      "\u001b[0;31mProgrammingError\u001b[0m                          Traceback (most recent call last)",
      "Cell \u001b[0;32mIn[49], line 12\u001b[0m\n\u001b[1;32m     10\u001b[0m insert_query \u001b[38;5;241m=\u001b[39m \u001b[38;5;124mf\u001b[39m\u001b[38;5;124m\"\u001b[39m\u001b[38;5;124mINSERT INTO \u001b[39m\u001b[38;5;132;01m{\u001b[39;00mtabla\u001b[38;5;132;01m}\u001b[39;00m\u001b[38;5;124m (\u001b[39m\u001b[38;5;132;01m{\u001b[39;00m\u001b[38;5;124m'\u001b[39m\u001b[38;5;124m, \u001b[39m\u001b[38;5;124m'\u001b[39m\u001b[38;5;241m.\u001b[39mjoin(column_names)\u001b[38;5;132;01m}\u001b[39;00m\u001b[38;5;124m) VALUES (\u001b[39m\u001b[38;5;132;01m{\u001b[39;00m\u001b[38;5;124m'\u001b[39m\u001b[38;5;124m, \u001b[39m\u001b[38;5;124m'\u001b[39m\u001b[38;5;241m.\u001b[39mjoin([\u001b[38;5;124m'\u001b[39m\u001b[38;5;132;01m%s\u001b[39;00m\u001b[38;5;124m'\u001b[39m\u001b[38;5;250m \u001b[39m\u001b[38;5;28;01mfor\u001b[39;00m\u001b[38;5;250m \u001b[39m_\u001b[38;5;250m \u001b[39m\u001b[38;5;129;01min\u001b[39;00m\u001b[38;5;250m \u001b[39mcolumn_names])\u001b[38;5;132;01m}\u001b[39;00m\u001b[38;5;124m)\u001b[39m\u001b[38;5;124m\"\u001b[39m\u001b[38;5;241m.\u001b[39mreplace(\u001b[38;5;124m\"\u001b[39m\u001b[38;5;124m'\u001b[39m\u001b[38;5;124m\"\u001b[39m, \u001b[38;5;124m\"\u001b[39m\u001b[38;5;124m\"\u001b[39m)\n\u001b[1;32m     11\u001b[0m values \u001b[38;5;241m=\u001b[39m [\u001b[38;5;28mtuple\u001b[39m(row) \u001b[38;5;28;01mfor\u001b[39;00m row \u001b[38;5;129;01min\u001b[39;00m df\u001b[38;5;241m.\u001b[39mvalues]\n\u001b[0;32m---> 12\u001b[0m \u001b[43mcursor\u001b[49m\u001b[38;5;241;43m.\u001b[39;49m\u001b[43mexecutemany\u001b[49m\u001b[43m(\u001b[49m\u001b[43minsert_query\u001b[49m\u001b[43m,\u001b[49m\u001b[43m \u001b[49m\u001b[43mvalues\u001b[49m\u001b[43m)\u001b[49m\n\u001b[1;32m     14\u001b[0m db\u001b[38;5;241m.\u001b[39mcommit()\n\u001b[1;32m     16\u001b[0m \u001b[38;5;28mprint\u001b[39m(\u001b[38;5;124mf\u001b[39m\u001b[38;5;124m\"\u001b[39m\u001b[38;5;124mAñadidas: \u001b[39m\u001b[38;5;132;01m{\u001b[39;00mcursor\u001b[38;5;241m.\u001b[39mrowcount\u001b[38;5;132;01m}\u001b[39;00m\u001b[38;5;124m filas\u001b[39m\u001b[38;5;124m\"\u001b[39m)\n",
      "File \u001b[0;32m~/PFB-Empleo/env/lib/python3.12/site-packages/mysql/connector/cursor_cext.py:469\u001b[0m, in \u001b[0;36mCMySQLCursor.executemany\u001b[0;34m(self, operation, seq_params)\u001b[0m\n\u001b[1;32m    467\u001b[0m     \u001b[38;5;28;01mif\u001b[39;00m stmt \u001b[38;5;129;01mis\u001b[39;00m \u001b[38;5;129;01mnot\u001b[39;00m \u001b[38;5;28;01mNone\u001b[39;00m:\n\u001b[1;32m    468\u001b[0m         \u001b[38;5;28mself\u001b[39m\u001b[38;5;241m.\u001b[39m_executed \u001b[38;5;241m=\u001b[39m stmt\n\u001b[0;32m--> 469\u001b[0m         \u001b[38;5;28;01mreturn\u001b[39;00m \u001b[38;5;28;43mself\u001b[39;49m\u001b[38;5;241;43m.\u001b[39;49m\u001b[43mexecute\u001b[49m\u001b[43m(\u001b[49m\u001b[43mcast\u001b[49m\u001b[43m(\u001b[49m\u001b[38;5;28;43mstr\u001b[39;49m\u001b[43m,\u001b[49m\u001b[43m \u001b[49m\u001b[43mstmt\u001b[49m\u001b[43m)\u001b[49m\u001b[43m)\u001b[49m\n\u001b[1;32m    471\u001b[0m rowcnt \u001b[38;5;241m=\u001b[39m \u001b[38;5;241m0\u001b[39m\n\u001b[1;32m    472\u001b[0m \u001b[38;5;28;01mtry\u001b[39;00m:\n\u001b[1;32m    473\u001b[0m     \u001b[38;5;66;03m# When processing read ops (e.g., SELECT), rowcnt is updated\u001b[39;00m\n\u001b[1;32m    474\u001b[0m     \u001b[38;5;66;03m# based on self._rowcount. For write ops (e.g., INSERT) is\u001b[39;00m\n\u001b[1;32m    475\u001b[0m     \u001b[38;5;66;03m# updated based on self._affected_rows.\u001b[39;00m\n\u001b[1;32m    476\u001b[0m     \u001b[38;5;66;03m# The variable self._description is None for write ops, that's\u001b[39;00m\n\u001b[1;32m    477\u001b[0m     \u001b[38;5;66;03m# why we use it as indicator for updating rowcnt.\u001b[39;00m\n",
      "File \u001b[0;32m~/PFB-Empleo/env/lib/python3.12/site-packages/mysql/connector/cursor_cext.py:351\u001b[0m, in \u001b[0;36mCMySQLCursor.execute\u001b[0;34m(self, operation, params, map_results)\u001b[0m\n\u001b[1;32m    343\u001b[0m \u001b[38;5;28mself\u001b[39m\u001b[38;5;241m.\u001b[39m_executed \u001b[38;5;241m=\u001b[39m (\n\u001b[1;32m    344\u001b[0m     \u001b[38;5;28mself\u001b[39m\u001b[38;5;241m.\u001b[39m_stmt_partition[\u001b[38;5;124m\"\u001b[39m\u001b[38;5;124msingle_stmts\u001b[39m\u001b[38;5;124m\"\u001b[39m]\u001b[38;5;241m.\u001b[39mpopleft()\n\u001b[1;32m    345\u001b[0m     \u001b[38;5;28;01mif\u001b[39;00m map_results\n\u001b[1;32m    346\u001b[0m     \u001b[38;5;28;01melse\u001b[39;00m \u001b[38;5;28mself\u001b[39m\u001b[38;5;241m.\u001b[39m_stmt_partition[\u001b[38;5;124m\"\u001b[39m\u001b[38;5;124mmappable_stmt\u001b[39m\u001b[38;5;124m\"\u001b[39m]\n\u001b[1;32m    347\u001b[0m )\n\u001b[1;32m    349\u001b[0m \u001b[38;5;28;01mtry\u001b[39;00m:\n\u001b[1;32m    350\u001b[0m     \u001b[38;5;28mself\u001b[39m\u001b[38;5;241m.\u001b[39m_handle_result(\n\u001b[0;32m--> 351\u001b[0m         \u001b[38;5;28;43mself\u001b[39;49m\u001b[38;5;241;43m.\u001b[39;49m\u001b[43m_connection\u001b[49m\u001b[38;5;241;43m.\u001b[39;49m\u001b[43mcmd_query\u001b[49m\u001b[43m(\u001b[49m\n\u001b[1;32m    352\u001b[0m \u001b[43m            \u001b[49m\u001b[38;5;28;43mself\u001b[39;49m\u001b[38;5;241;43m.\u001b[39;49m\u001b[43m_stmt_partition\u001b[49m\u001b[43m[\u001b[49m\u001b[38;5;124;43m\"\u001b[39;49m\u001b[38;5;124;43mmappable_stmt\u001b[39;49m\u001b[38;5;124;43m\"\u001b[39;49m\u001b[43m]\u001b[49m\u001b[43m,\u001b[49m\n\u001b[1;32m    353\u001b[0m \u001b[43m            \u001b[49m\u001b[43mraw\u001b[49m\u001b[38;5;241;43m=\u001b[39;49m\u001b[38;5;28;43mself\u001b[39;49m\u001b[38;5;241;43m.\u001b[39;49m\u001b[43m_raw\u001b[49m\u001b[43m,\u001b[49m\n\u001b[1;32m    354\u001b[0m \u001b[43m            \u001b[49m\u001b[43mbuffered\u001b[49m\u001b[38;5;241;43m=\u001b[39;49m\u001b[38;5;28;43mself\u001b[39;49m\u001b[38;5;241;43m.\u001b[39;49m\u001b[43m_buffered\u001b[49m\u001b[43m,\u001b[49m\n\u001b[1;32m    355\u001b[0m \u001b[43m            \u001b[49m\u001b[43mraw_as_string\u001b[49m\u001b[38;5;241;43m=\u001b[39;49m\u001b[38;5;28;43mself\u001b[39;49m\u001b[38;5;241;43m.\u001b[39;49m\u001b[43m_raw_as_string\u001b[49m\u001b[43m,\u001b[49m\n\u001b[1;32m    356\u001b[0m \u001b[43m        \u001b[49m\u001b[43m)\u001b[49m\n\u001b[1;32m    357\u001b[0m     )\n\u001b[1;32m    358\u001b[0m \u001b[38;5;28;01mexcept\u001b[39;00m MySQLInterfaceError \u001b[38;5;28;01mas\u001b[39;00m err:\n\u001b[1;32m    359\u001b[0m     \u001b[38;5;28;01mraise\u001b[39;00m get_mysql_exception(\n\u001b[1;32m    360\u001b[0m         msg\u001b[38;5;241m=\u001b[39merr\u001b[38;5;241m.\u001b[39mmsg, errno\u001b[38;5;241m=\u001b[39merr\u001b[38;5;241m.\u001b[39merrno, sqlstate\u001b[38;5;241m=\u001b[39merr\u001b[38;5;241m.\u001b[39msqlstate\n\u001b[1;32m    361\u001b[0m     ) \u001b[38;5;28;01mfrom\u001b[39;00m\u001b[38;5;250m \u001b[39m\u001b[38;5;21;01merr\u001b[39;00m\n",
      "File \u001b[0;32m~/PFB-Empleo/env/lib/python3.12/site-packages/mysql/connector/opentelemetry/context_propagation.py:97\u001b[0m, in \u001b[0;36mwith_context_propagation.<locals>.wrapper\u001b[0;34m(cnx, *args, **kwargs)\u001b[0m\n\u001b[1;32m     95\u001b[0m \u001b[38;5;66;03m# pylint: disable=possibly-used-before-assignment\u001b[39;00m\n\u001b[1;32m     96\u001b[0m \u001b[38;5;28;01mif\u001b[39;00m \u001b[38;5;129;01mnot\u001b[39;00m OTEL_ENABLED \u001b[38;5;129;01mor\u001b[39;00m \u001b[38;5;129;01mnot\u001b[39;00m cnx\u001b[38;5;241m.\u001b[39motel_context_propagation:\n\u001b[0;32m---> 97\u001b[0m     \u001b[38;5;28;01mreturn\u001b[39;00m \u001b[43mmethod\u001b[49m\u001b[43m(\u001b[49m\u001b[43mcnx\u001b[49m\u001b[43m,\u001b[49m\u001b[43m \u001b[49m\u001b[38;5;241;43m*\u001b[39;49m\u001b[43margs\u001b[49m\u001b[43m,\u001b[49m\u001b[43m \u001b[49m\u001b[38;5;241;43m*\u001b[39;49m\u001b[38;5;241;43m*\u001b[39;49m\u001b[43mkwargs\u001b[49m\u001b[43m)\u001b[49m\n\u001b[1;32m     99\u001b[0m current_span \u001b[38;5;241m=\u001b[39m trace\u001b[38;5;241m.\u001b[39mget_current_span()\n\u001b[1;32m    100\u001b[0m tp_header \u001b[38;5;241m=\u001b[39m \u001b[38;5;28;01mNone\u001b[39;00m\n",
      "File \u001b[0;32m~/PFB-Empleo/env/lib/python3.12/site-packages/mysql/connector/connection_cext.py:763\u001b[0m, in \u001b[0;36mCMySQLConnection.cmd_query\u001b[0;34m(self, query, raw, buffered, raw_as_string, **kwargs)\u001b[0m\n\u001b[1;32m    755\u001b[0m     \u001b[38;5;28mself\u001b[39m\u001b[38;5;241m.\u001b[39m_cmysql\u001b[38;5;241m.\u001b[39mquery(\n\u001b[1;32m    756\u001b[0m         query,\n\u001b[1;32m    757\u001b[0m         raw\u001b[38;5;241m=\u001b[39mraw,\n\u001b[0;32m   (...)\u001b[0m\n\u001b[1;32m    760\u001b[0m         query_attrs\u001b[38;5;241m=\u001b[39m\u001b[38;5;28mself\u001b[39m\u001b[38;5;241m.\u001b[39mquery_attrs,\n\u001b[1;32m    761\u001b[0m     )\n\u001b[1;32m    762\u001b[0m \u001b[38;5;28;01mexcept\u001b[39;00m MySQLInterfaceError \u001b[38;5;28;01mas\u001b[39;00m err:\n\u001b[0;32m--> 763\u001b[0m     \u001b[38;5;28;01mraise\u001b[39;00m get_mysql_exception(\n\u001b[1;32m    764\u001b[0m         err\u001b[38;5;241m.\u001b[39merrno, msg\u001b[38;5;241m=\u001b[39merr\u001b[38;5;241m.\u001b[39mmsg, sqlstate\u001b[38;5;241m=\u001b[39merr\u001b[38;5;241m.\u001b[39msqlstate\n\u001b[1;32m    765\u001b[0m     ) \u001b[38;5;28;01mfrom\u001b[39;00m\u001b[38;5;250m \u001b[39m\u001b[38;5;21;01merr\u001b[39;00m\n\u001b[1;32m    766\u001b[0m \u001b[38;5;28;01mexcept\u001b[39;00m \u001b[38;5;167;01mAttributeError\u001b[39;00m \u001b[38;5;28;01mas\u001b[39;00m err:\n\u001b[1;32m    767\u001b[0m     addr \u001b[38;5;241m=\u001b[39m (\n\u001b[1;32m    768\u001b[0m         \u001b[38;5;28mself\u001b[39m\u001b[38;5;241m.\u001b[39m_unix_socket \u001b[38;5;28;01mif\u001b[39;00m \u001b[38;5;28mself\u001b[39m\u001b[38;5;241m.\u001b[39m_unix_socket \u001b[38;5;28;01melse\u001b[39;00m \u001b[38;5;124mf\u001b[39m\u001b[38;5;124m\"\u001b[39m\u001b[38;5;132;01m{\u001b[39;00m\u001b[38;5;28mself\u001b[39m\u001b[38;5;241m.\u001b[39m_host\u001b[38;5;132;01m}\u001b[39;00m\u001b[38;5;124m:\u001b[39m\u001b[38;5;132;01m{\u001b[39;00m\u001b[38;5;28mself\u001b[39m\u001b[38;5;241m.\u001b[39m_port\u001b[38;5;132;01m}\u001b[39;00m\u001b[38;5;124m\"\u001b[39m\n\u001b[1;32m    769\u001b[0m     )\n",
      "\u001b[0;31mProgrammingError\u001b[0m: 1054 (42S22): Unknown column 'nan' in 'field list'"
     ]
    }
   ],
   "source": [
    "db = mysql.connector.connect(host=db_config[\"host\"],\n",
    "                             user=db_config[\"user\"],\n",
    "                             password=db_config[\"password\"],\n",
    "                             database=db_config[\"database\"])    \n",
    "for tabla, df in zip(tablas, dfs):     \n",
    "    cursor = db.cursor()    \n",
    "    cursor.execute(f\"SELECT * FROM {tabla} LIMIT 0;\")\n",
    "    column_names = cursor.column_names\n",
    "    cursor.fetchall()    \n",
    "    insert_query = f\"INSERT INTO {tabla} ({', '.join(column_names)}) VALUES ({', '.join(['%s' for _ in column_names])})\".replace(\"'\", \"\")\n",
    "    values = [tuple(row) for row in df.values]\n",
    "    cursor.executemany(insert_query, values)\n",
    "    \n",
    "    db.commit()\n",
    "    \n",
    "    print(f\"Añadidas: {cursor.rowcount} filas\")\n",
    "    \n",
    "    cursor.fetchall()\n",
    "    cursor.close()\n",
    "    db.close()"
   ]
  },
  {
   "cell_type": "code",
   "execution_count": null,
   "id": "db45799b-c15a-468a-9bc8-55c58bbcdb59",
   "metadata": {},
   "outputs": [],
   "source": []
  },
  {
   "cell_type": "code",
   "execution_count": null,
   "id": "83d033ef-7695-415b-a9a2-b64306561a49",
   "metadata": {},
   "outputs": [],
   "source": []
  }
 ],
 "metadata": {
  "kernelspec": {
   "display_name": "Python 3 (ipykernel)",
   "language": "python",
   "name": "python3"
  },
  "language_info": {
   "codemirror_mode": {
    "name": "ipython",
    "version": 3
   },
   "file_extension": ".py",
   "mimetype": "text/x-python",
   "name": "python",
   "nbconvert_exporter": "python",
   "pygments_lexer": "ipython3",
   "version": "3.12.7"
  }
 },
 "nbformat": 4,
 "nbformat_minor": 5
}
