{
 "cells": [
  {
   "cell_type": "code",
   "execution_count": 1,
   "id": "fc301eb6-2565-44d5-80eb-ecd01b511e86",
   "metadata": {},
   "outputs": [],
   "source": [
    "import pandas as pd\n",
    "import mysql\n",
    "import mysql.connector"
   ]
  },
  {
   "cell_type": "code",
   "execution_count": null,
   "id": "657b9571-676c-4a16-9fe8-66f80d08cabc",
   "metadata": {},
   "outputs": [],
   "source": []
  },
  {
   "cell_type": "code",
   "execution_count": 2,
   "id": "829db0b1-a641-414b-bf31-5f5e42d49658",
   "metadata": {},
   "outputs": [],
   "source": [
    "queries_creacion = [] #Lista con las queries para crear cada tabla\n",
    "query_crear_tabla_ofertas = \"\"\"\n",
    "CREATE TABLE ofertas (\n",
    "    id_oferta VARCHAR(255) PRIMARY KEY,\n",
    "    empresa VARCHAR(255),\n",
    "    titulo VARCHAR(255),\n",
    "    ciudad VARCHAR(255),\n",
    "    salario_desde NUMERIC,\n",
    "    salario_hasta NUMERIC,\n",
    "    variabe NUMERIC,\n",
    "    vacaciones NUMERIC,\n",
    "    teletrabajo ENUM(\"Remoto\", \"Hibrido\", \"Presencial\"),\n",
    "    jornada_tipo VARCHAR(255),\n",
    "    turno_continuo BOOLEAN NULL,\n",
    "    imprescindible_residir ENUM(\"País Puesto\", \"No requerido\", \"Provincia Puesto\") NULL,\n",
    "    funciones VARCHAR(255),\n",
    "    contrato_tipo VARCHAR(255),\n",
    "    nivel_profesional VARCHAR(255),\n",
    "    formacion_minima VARCHAR(255),\n",
    "    personas_a_cargo TINYINT UNSIGNED NULL,\n",
    "    experiencia VARCHAR (255),\n",
    "    vacantes TINYINT UNSIGNED NULL,\n",
    "    cvs_inscritos NUMERIC,\n",
    "    oferta_activada BOOLEAN,\n",
    "    fecha_publicacion DATETIME NULL,\n",
    "    timestamp DATETIME NULL,\n",
    "    url TEXT\n",
    ");\n",
    "\"\"\"\n",
    "queries_creacion.append(query_crear_tabla_ofertas)"
   ]
  },
  {
   "cell_type": "code",
   "execution_count": 3,
   "id": "f988fafd-ac75-4c7a-8d45-2e839ab85c33",
   "metadata": {},
   "outputs": [],
   "source": [
    "query_crear_tabla_tecnologias = \"\"\"\n",
    "CREATE TABLE tecnologias (\n",
    "    tecnologia VARCHAR (255),\n",
    "    tec_id INT UNSIGNED PRIMARY KEY\n",
    ");\n",
    "\"\"\"\n",
    "queries_creacion.append(query_crear_tabla_tecnologias)"
   ]
  },
  {
   "cell_type": "code",
   "execution_count": 4,
   "id": "84e56be0-2938-460f-a965-3305d2a26c3c",
   "metadata": {},
   "outputs": [],
   "source": [
    "query_crear_tabla_tecnologias_relacion = \"\"\"\n",
    "CREATE TABLE tecnologias_relacion(\n",
    "    id_oferta VARCHAR(255),\n",
    "    tec_id INT UNSIGNED,\n",
    "    FOREIGN KEY (id_oferta) REFERENCES ofertas(id_oferta),\n",
    "    FOREIGN KEY (tec_id) REFERENCES tecnologias(tec_id)\n",
    ");\n",
    "\"\"\"\n",
    "queries_creacion.append(query_crear_tabla_tecnologias_relacion)"
   ]
  },
  {
   "cell_type": "code",
   "execution_count": 5,
   "id": "35eb1b4f-d6cd-4a9d-9a61-c569fe3d40a8",
   "metadata": {},
   "outputs": [],
   "source": [
    "query_crear_tabla_habilidades = \"\"\"\n",
    "CREATE TABLE habilidades (\n",
    "    habilidad VARCHAR (255),\n",
    "    hab_id INT UNSIGNED PRIMARY KEY\n",
    ");\n",
    "\"\"\"\n",
    "queries_creacion.append(query_crear_tabla_habilidades)"
   ]
  },
  {
   "cell_type": "code",
   "execution_count": 6,
   "id": "97fc2339-9f6a-4995-b3c3-b5170951abfb",
   "metadata": {},
   "outputs": [],
   "source": [
    "query_crear_tabla_habilidades_relacion = \"\"\"\n",
    "CREATE TABLE habilidades_relacion(\n",
    "    id_oferta VARCHAR(255),\n",
    "    hab_id INT UNSIGNED,\n",
    "    FOREIGN KEY (id_oferta) REFERENCES ofertas(id_oferta),\n",
    "    FOREIGN KEY (hab_id) REFERENCES habilidades(hab_id)\n",
    ");\n",
    "\"\"\"\n",
    "queries_creacion.append(query_crear_tabla_habilidades_relacion)"
   ]
  },
  {
   "cell_type": "code",
   "execution_count": 7,
   "id": "f3f9c61e-3423-4322-873f-7027a31cedd2",
   "metadata": {},
   "outputs": [],
   "source": [
    "query_crear_tabla_idiomas = \"\"\"\n",
    "CREATE TABLE idiomas (\n",
    "    id_oferta VARCHAR(255),\n",
    "    idioma VARCHAR (30),\n",
    "    nivel ENUM(\"Bajo\", \"Medio\", \"Alto\", \"Excelente\") NULL,\n",
    "    FOREIGN KEY (id_oferta) REFERENCES ofertas(id_oferta)\n",
    "\n",
    ");\n",
    "\"\"\"\n",
    "queries_creacion.append(query_crear_tabla_idiomas)"
   ]
  },
  {
   "cell_type": "code",
   "execution_count": null,
   "id": "67ccfd03-c426-46b7-81e8-6fc6bdb47cf6",
   "metadata": {},
   "outputs": [],
   "source": [
    "query_crear_tabla_ciudades_coordenadas = \"\"\"\n",
    "CREATE TABLE ciudades_coordenadas (\n",
    "    nombre VARCHAR(100),\n",
    "    latitud DECIMAL(9, 6),\n",
    "    longitud DECIMAL(9, 6)\n",
    ");\n",
    "\"\"\"\n",
    "queries_creacion.append(query_crear_tabla_ciudades_coordenadas)"
   ]
  },
  {
   "cell_type": "code",
   "execution_count": 8,
   "id": "8c22ce03-2cea-4774-9314-7d79e24a1630",
   "metadata": {},
   "outputs": [],
   "source": [
    "database = \"ofertas_de_empleo\"\n",
    "db = mysql.connector.connect(host     = \"localhost\",\n",
    "                             user     = \"root\",\n",
    "                             password = \"Scarface\",\n",
    "                             database = None)\n",
    "cursor = db.cursor()\n",
    "cursor.execute(f\"CREATE DATABASE IF NOT EXISTS {database};\")\n",
    "cursor.close()\n",
    "db.close()"
   ]
  },
  {
   "cell_type": "code",
   "execution_count": 9,
   "id": "136dab56-bcb4-4d2b-8d70-a1dbe0fc5d5b",
   "metadata": {},
   "outputs": [],
   "source": [
    "for query in queries_creacion:\n",
    "    database = \"ofertas_de_empleo\"\n",
    "    db = mysql.connector.connect(host     = \"localhost\",\n",
    "                                 user     = \"root\",\n",
    "                                 password = \"Scarface\",\n",
    "                                 database = database)    \n",
    "    cursor = db.cursor()\n",
    "    cursor.execute(query)\n",
    "    cursor.fetchall()\n",
    "    cursor.close()\n",
    "    db.close()    "
   ]
  },
  {
   "cell_type": "code",
   "execution_count": 10,
   "id": "d95c4e4a-d5a9-4843-9fdf-5767bedf13b6",
   "metadata": {},
   "outputs": [],
   "source": [
    "df_tecnologias = pd.read_csv(\"/home/bosser/Escritorio/proyectofinal/tecnologias_final.csv\")\n",
    "df_tecnologias_relacion = pd.read_csv(\"/home/bosser/Escritorio/proyectofinal/tecnologias_relacion_final.csv\")\n",
    "df_habilidades = pd.read_csv(\"/home/bosser/Escritorio/proyectofinal/habilidades_final.csv\")\n",
    "df_habilidades_relacion = pd.read_csv(\"/home/bosser/Escritorio/proyectofinal/habilidades_relacion_final.csv\")\n",
    "df_ofertas = pd.read_csv(\"/home/bosser/Escritorio/proyectofinal/ofertas_final.csv\")\n",
    "df_idiomas = pd.read_csv(\"/home/bosser/Escritorio/proyectofinal/idiomas.csv\")\n",
    "###########df_ciudades + ciudades_coordenadas"
   ]
  },
  {
   "cell_type": "code",
   "execution_count": 11,
   "id": "73599eac-03fb-4ee2-9692-d5d610171ec3",
   "metadata": {},
   "outputs": [],
   "source": [
    "tablas = [\"ofertas\", \"tecnologias\", \"tecnologias_relacion\", \"habilidades\", \"habilidades_relacion\", \"idiomas,\", \"ciudades\"]\n",
    "dfs = [df_ofertas, df_tecnologias, df_tecnologias_relacion, df_habilidades, df_habilidades_relacion, df_idiomas #,df_ciudades\n",
    "      ]\n"
   ]
  },
  {
   "cell_type": "code",
   "execution_count": 12,
   "id": "26efb807-5e29-4406-8edc-1102bd7aaad6",
   "metadata": {},
   "outputs": [
    {
     "name": "stdout",
     "output_type": "stream",
     "text": [
      "Añadidas: 4830 filas\n",
      "Añadidas: 1948 filas\n",
      "Añadidas: 16214 filas\n",
      "Añadidas: 65 filas\n",
      "Añadidas: 12170 filas\n",
      "Añadidas: 3645 filas\n"
     ]
    }
   ],
   "source": [
    "\n",
    "\n",
    "for tabla, df in zip(tablas, dfs):\n",
    "    database = \"ofertas_de_empleo\"\n",
    "    \n",
    "    db = mysql.connector.connect(host     = \"localhost\",\n",
    "                                 user     = \"root\",\n",
    "                                 password = \"Scarface\",\n",
    "                                 database = database)\n",
    "    \n",
    "    cursor = db.cursor()\n",
    "    \n",
    "    # Seleccionamos las columnas de la tabla, omitiendo la Primary Key\n",
    "    cursor.execute(f\"SELECT * FROM {tabla} LIMIT 0;\")\n",
    "    column_names = cursor.column_names\n",
    "    cursor.fetchall()\n",
    "    \n",
    "    \n",
    "    insert_query = f\"INSERT INTO {tabla} ({', '.join(column_names)}) VALUES ({', '.join(['%s' for _ in column_names])})\".replace(\"'\", \"\")\n",
    "    values = [tuple(row) for row in df.values] # Aquí \"casteamos\" cada fila en el df para que sea una tupla\n",
    "    \n",
    "    # .executemany ejecuta el query de INSERT INTO con cada uno de los elementos de \"values\"\n",
    "    cursor.executemany(insert_query, values)\n",
    "    \n",
    "    # Guarda los resultados\n",
    "    db.commit()\n",
    "    \n",
    "    print(f\"Añadidas: {cursor.rowcount} filas\")\n",
    "    \n",
    "    cursor.fetchall() # Vaciamos el cursor\n",
    "    cursor.close()\n",
    "    db.close()"
   ]
  },
  {
   "cell_type": "code",
   "execution_count": null,
   "id": "db45799b-c15a-468a-9bc8-55c58bbcdb59",
   "metadata": {},
   "outputs": [],
   "source": []
  },
  {
   "cell_type": "code",
   "execution_count": null,
   "id": "f655bebd-2933-4991-b144-05e1c4e0d5db",
   "metadata": {},
   "outputs": [],
   "source": []
  },
  {
   "cell_type": "code",
   "execution_count": null,
   "id": "cfbc1941-f9eb-4913-9614-f7de8819906d",
   "metadata": {},
   "outputs": [],
   "source": []
  },
  {
   "cell_type": "code",
   "execution_count": null,
   "id": "ae77e87a-cd06-4d3a-a140-ad9148551d8a",
   "metadata": {},
   "outputs": [],
   "source": []
  },
  {
   "cell_type": "code",
   "execution_count": null,
   "id": "a6f39971-4f3a-47c3-892c-9076712e5437",
   "metadata": {},
   "outputs": [],
   "source": []
  }
 ],
 "metadata": {
  "kernelspec": {
   "display_name": "Python 3 (ipykernel)",
   "language": "python",
   "name": "python3"
  },
  "language_info": {
   "codemirror_mode": {
    "name": "ipython",
    "version": 3
   },
   "file_extension": ".py",
   "mimetype": "text/x-python",
   "name": "python",
   "nbconvert_exporter": "python",
   "pygments_lexer": "ipython3",
   "version": "3.12.7"
  }
 },
 "nbformat": 4,
 "nbformat_minor": 5
}
