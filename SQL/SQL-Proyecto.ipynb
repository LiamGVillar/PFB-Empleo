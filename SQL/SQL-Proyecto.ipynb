{
 "cells": [
  {
   "cell_type": "code",
   "execution_count": 1,
   "id": "fc301eb6-2565-44d5-80eb-ecd01b511e86",
   "metadata": {},
   "outputs": [],
   "source": [
    "import pandas as pd\n",
    "import mysql\n",
    "import mysql.connector\n",
    "import toml\n",
    "import numpy as np"
   ]
  },
  {
   "cell_type": "code",
   "execution_count": null,
   "id": "657b9571-676c-4a16-9fe8-66f80d08cabc",
   "metadata": {},
   "outputs": [],
   "source": []
  },
  {
   "cell_type": "code",
   "execution_count": 2,
   "id": "829db0b1-a641-414b-bf31-5f5e42d49658",
   "metadata": {},
   "outputs": [],
   "source": [
    "queries_creacion = [] #Lista con las queries para crear cada tabla\n",
    "query_crear_tabla_ofertas = \"\"\"\n",
    "CREATE TABLE ofertas (\n",
    "    id_oferta VARCHAR(255) PRIMARY KEY,\n",
    "    empresa VARCHAR(255),\n",
    "    titulo VARCHAR(255),\n",
    "    ciudad VARCHAR(255),\n",
    "    salario_desde NUMERIC,\n",
    "    salario_hasta NUMERIC,\n",
    "    variabe NUMERIC,\n",
    "    vacaciones NUMERIC,\n",
    "    teletrabajo ENUM(\"Remoto\", \"Hibrido\", \"Presencial\"),\n",
    "    jornada_tipo VARCHAR(255),\n",
    "    turno_continuo BOOLEAN NULL,\n",
    "    imprescindible_residir ENUM(\"País Puesto\", \"No requerido\", \"Provincia Puesto\") NULL,\n",
    "    funciones VARCHAR(255),\n",
    "    contrato_tipo VARCHAR(255),\n",
    "    nivel_profesional VARCHAR(255),\n",
    "    formacion_minima VARCHAR(255),\n",
    "    personas_a_cargo TINYINT UNSIGNED NULL,\n",
    "    experiencia VARCHAR (255),\n",
    "    vacantes TINYINT UNSIGNED NULL,\n",
    "    cvs_inscritos NUMERIC,\n",
    "    oferta_activada BOOLEAN,\n",
    "    fecha_publicacion DATETIME NULL,\n",
    "    timestamp DATETIME NULL,\n",
    "    url TEXT\n",
    ");\n",
    "\"\"\"\n",
    "queries_creacion.append(query_crear_tabla_ofertas)"
   ]
  },
  {
   "cell_type": "code",
   "execution_count": 3,
   "id": "f988fafd-ac75-4c7a-8d45-2e839ab85c33",
   "metadata": {},
   "outputs": [],
   "source": [
    "query_crear_tabla_tecnologias = \"\"\"\n",
    "CREATE TABLE tecnologias (\n",
    "    tecnologia VARCHAR (255),\n",
    "    tec_id INT UNSIGNED PRIMARY KEY\n",
    ");\n",
    "\"\"\"\n",
    "queries_creacion.append(query_crear_tabla_tecnologias)"
   ]
  },
  {
   "cell_type": "code",
   "execution_count": 4,
   "id": "84e56be0-2938-460f-a965-3305d2a26c3c",
   "metadata": {},
   "outputs": [],
   "source": [
    "query_crear_tabla_tecnologias_relacion = \"\"\"\n",
    "CREATE TABLE tecnologias_relacion(\n",
    "    id_oferta VARCHAR(255),\n",
    "    tec_id INT UNSIGNED,\n",
    "    FOREIGN KEY (id_oferta) REFERENCES ofertas(id_oferta),\n",
    "    FOREIGN KEY (tec_id) REFERENCES tecnologias(tec_id)\n",
    ");\n",
    "\"\"\"\n",
    "queries_creacion.append(query_crear_tabla_tecnologias_relacion)"
   ]
  },
  {
   "cell_type": "code",
   "execution_count": 5,
   "id": "35eb1b4f-d6cd-4a9d-9a61-c569fe3d40a8",
   "metadata": {},
   "outputs": [],
   "source": [
    "query_crear_tabla_habilidades = \"\"\"\n",
    "CREATE TABLE habilidades (\n",
    "    habilidad VARCHAR (255),\n",
    "    hab_id INT UNSIGNED PRIMARY KEY\n",
    ");\n",
    "\"\"\"\n",
    "queries_creacion.append(query_crear_tabla_habilidades)"
   ]
  },
  {
   "cell_type": "code",
   "execution_count": 6,
   "id": "97fc2339-9f6a-4995-b3c3-b5170951abfb",
   "metadata": {},
   "outputs": [],
   "source": [
    "query_crear_tabla_habilidades_relacion = \"\"\"\n",
    "CREATE TABLE habilidades_relacion(\n",
    "    id_oferta VARCHAR(255),\n",
    "    hab_id INT UNSIGNED,\n",
    "    FOREIGN KEY (id_oferta) REFERENCES ofertas(id_oferta),\n",
    "    FOREIGN KEY (hab_id) REFERENCES habilidades(hab_id)\n",
    ");\n",
    "\"\"\"\n",
    "queries_creacion.append(query_crear_tabla_habilidades_relacion)"
   ]
  },
  {
   "cell_type": "code",
   "execution_count": 7,
   "id": "f3f9c61e-3423-4322-873f-7027a31cedd2",
   "metadata": {},
   "outputs": [],
   "source": [
    "query_crear_tabla_idiomas = \"\"\"\n",
    "CREATE TABLE idiomas (\n",
    "    id_oferta VARCHAR(255),\n",
    "    idioma VARCHAR (30),\n",
    "    nivel ENUM(\"Bajo\", \"Medio\", \"Alto\", \"Excelente\") NULL,\n",
    "    FOREIGN KEY (id_oferta) REFERENCES ofertas(id_oferta)\n",
    ");\n",
    "\"\"\"\n",
    "queries_creacion.append(query_crear_tabla_idiomas)"
   ]
  },
  {
   "cell_type": "code",
   "execution_count": 8,
   "id": "dd2a75ca-db39-44f9-b768-bd6055477b06",
   "metadata": {},
   "outputs": [],
   "source": [
    "query_crear_tabla_ciudades_coordenadas = \"\"\"\n",
    "CREATE TABLE ciudades_coordenadas (\n",
    "    ciudad VARCHAR(255) PRIMARY KEY,\n",
    "    pais VARCHAR(255),\n",
    "    comunidad_autonoma VARCHAR(255),\n",
    "    latitud DECIMAL(9, 6),\n",
    "    longitud DECIMAL(9, 6)\n",
    ");\n",
    "\"\"\"\n",
    "queries_creacion.append(query_crear_tabla_ciudades_coordenadas)"
   ]
  },
  {
   "cell_type": "code",
   "execution_count": 9,
   "id": "67ccfd03-c426-46b7-81e8-6fc6bdb47cf6",
   "metadata": {},
   "outputs": [],
   "source": [
    "query_crear_tabla_ciudades = \"\"\"\n",
    "CREATE TABLE ciudades (\n",
    "    id_oferta VARCHAR(255),\n",
    "    ciudad VARCHAR(255),\n",
    "    FOREIGN KEY (id_oferta) REFERENCES ofertas(id_oferta),\n",
    "    FOREIGN KEY (ciudad) REFERENCES ciudades_coordenadas(ciudad)\n",
    ");\n",
    "\"\"\"\n",
    "queries_creacion.append(query_crear_tabla_ciudades)"
   ]
  },
  {
   "cell_type": "code",
   "execution_count": 10,
   "id": "00cf11e5-7462-4e44-82db-660ad93094fe",
   "metadata": {},
   "outputs": [],
   "source": [
    "config = toml.load(\"../.streamlit/secrets.toml\") \n",
    "db_config = config[\"database\"] \n",
    "database = db_config[\"database\"]\n",
    "\n",
    "db = mysql.connector.connect(host=db_config[\"host\"],\n",
    "                             user=db_config[\"user\"],\n",
    "                             password=db_config[\"password\"])\n",
    "cursor = db.cursor()\n",
    "cursor.execute(f\"DROP DATABASE IF EXISTS {database};\")\n",
    "cursor.execute(f\"CREATE DATABASE {database};\")\n",
    "cursor.close()\n",
    "db.close()"
   ]
  },
  {
   "cell_type": "code",
   "execution_count": 11,
   "id": "136dab56-bcb4-4d2b-8d70-a1dbe0fc5d5b",
   "metadata": {},
   "outputs": [],
   "source": [
    "for query in queries_creacion: \n",
    "\n",
    "    db = mysql.connector.connect(host=db_config[\"host\"],\n",
    "                             user=db_config[\"user\"],\n",
    "                             password=db_config[\"password\"],\n",
    "                             database=db_config[\"database\"])    \n",
    "\n",
    "   \n",
    "    cursor = db.cursor()\n",
    "    cursor.execute(query)\n",
    "    cursor.fetchall()\n",
    "    cursor.close()\n",
    "    db.close()    "
   ]
  },
  {
   "cell_type": "code",
   "execution_count": 12,
   "id": "d95c4e4a-d5a9-4843-9fdf-5767bedf13b6",
   "metadata": {},
   "outputs": [],
   "source": [
    "df_tecnologias = pd.read_csv(\"../CSV/CSV_finales/tecnologias_final.csv\")\n",
    "df_tecnologias_relacion = pd.read_csv(\"../CSV/CSV_finales/tecnologias_relacion_final.csv\")\n",
    "df_habilidades = pd.read_csv(\"../CSV/CSV_finales/habilidades_final.csv\")\n",
    "df_habilidades_relacion = pd.read_csv(\"../CSV/CSV_finales/habilidades_relacion_final.csv\")\n",
    "df_ofertas = pd.read_csv(\"../CSV/CSV_finales/ofertas_final.csv\")\n",
    "df_idiomas = pd.read_csv(\"../CSV/CSV_finales/idiomas.csv\")\n",
    "df_ciudades = pd.read_csv(\"../CSV/CSV_finales/resultado_presencial.csv\")\n",
    "df_ciudades_coordenadas = pd.read_csv(\"../CSV/CSV_finales/ciudades_coordenadas.csv\")"
   ]
  },
  {
   "cell_type": "code",
   "execution_count": 13,
   "id": "c97b8b1e-b9d8-4d6f-91eb-f198b3c282d9",
   "metadata": {},
   "outputs": [],
   "source": [
    "df_ciudades_coordenadas.drop_duplicates(inplace=True)"
   ]
  },
  {
   "cell_type": "code",
   "execution_count": 14,
   "id": "0095d904-7f5c-45e8-ab8a-8227169a2ca8",
   "metadata": {},
   "outputs": [],
   "source": [
    "df_ciudades[\"ciudades\"] = df_ciudades[\"ciudades\"].str.title()\n",
    "df_ciudades.dropna(inplace=True)\n",
    "df_ciudades = df_ciudades[~df_ciudades.map(lambda x: x == 'Rep. De Macedonia').any(axis=1)]\n"
   ]
  },
  {
   "cell_type": "code",
   "execution_count": 15,
   "id": "73599eac-03fb-4ee2-9692-d5d610171ec3",
   "metadata": {},
   "outputs": [],
   "source": [
    "tablas = [\"ofertas\", \"tecnologias\", \"tecnologias_relacion\", \"habilidades\", \n",
    "          \"habilidades_relacion\", \"idiomas\", \"ciudades_coordenadas\", \"ciudades\"]\n",
    "dfs = [df_ofertas, df_tecnologias, df_tecnologias_relacion, df_habilidades, \n",
    "       df_habilidades_relacion, df_idiomas, df_ciudades_coordenadas, df_ciudades]"
   ]
  },
  {
   "cell_type": "code",
   "execution_count": 16,
   "id": "2be8cb23-da91-4bc6-873d-b233ab32a200",
   "metadata": {},
   "outputs": [],
   "source": [
    "for df in dfs:\n",
    "    df.replace([np.nan], [None], inplace=True)"
   ]
  },
  {
   "cell_type": "code",
   "execution_count": 17,
   "id": "26efb807-5e29-4406-8edc-1102bd7aaad6",
   "metadata": {},
   "outputs": [
    {
     "name": "stdout",
     "output_type": "stream",
     "text": [
      "Añadidas: 4830 filas\n",
      "Añadidas: 1948 filas\n",
      "Añadidas: 16214 filas\n",
      "Añadidas: 65 filas\n",
      "Añadidas: 12200 filas\n",
      "Añadidas: 3645 filas\n",
      "Añadidas: 77 filas\n",
      "Añadidas: 4098 filas\n"
     ]
    }
   ],
   "source": [
    "for tabla, df in zip(tablas, dfs):     \n",
    "\n",
    "\n",
    "    db = mysql.connector.connect(host=db_config[\"host\"],\n",
    "                                user=db_config[\"user\"],\n",
    "                                password=db_config[\"password\"],\n",
    "                                database=db_config[\"database\"])    \n",
    "    cursor = db.cursor()    \n",
    "    cursor.execute(f\"SELECT * FROM {tabla} LIMIT 0;\")\n",
    "    column_names = cursor.column_names\n",
    "    cursor.fetchall()    \n",
    "    insert_query = f\"INSERT INTO {tabla} ({', '.join(column_names)}) VALUES ({', '.join(['%s' for _ in column_names])})\".replace(\"'\", \"\")\n",
    "    values = [tuple(row) for row in df.values]\n",
    "    cursor.executemany(insert_query, values)\n",
    "        \n",
    "    db.commit()\n",
    "        \n",
    "    print(f\"Añadidas: {cursor.rowcount} filas\")\n",
    "        \n",
    "    cursor.fetchall()\n",
    "    cursor.close()\n",
    "    db.close()"
   ]
  },
  {
   "cell_type": "code",
   "execution_count": null,
   "id": "db45799b-c15a-468a-9bc8-55c58bbcdb59",
   "metadata": {},
   "outputs": [],
   "source": []
  },
  {
   "cell_type": "code",
   "execution_count": null,
   "id": "83d033ef-7695-415b-a9a2-b64306561a49",
   "metadata": {},
   "outputs": [],
   "source": []
  }
 ],
 "metadata": {
  "kernelspec": {
   "display_name": "env",
   "language": "python",
   "name": "python3"
  },
  "language_info": {
   "codemirror_mode": {
    "name": "ipython",
    "version": 3
   },
   "file_extension": ".py",
   "mimetype": "text/x-python",
   "name": "python",
   "nbconvert_exporter": "python",
   "pygments_lexer": "ipython3",
   "version": "3.12.5"
  }
 },
 "nbformat": 4,
 "nbformat_minor": 5
}
