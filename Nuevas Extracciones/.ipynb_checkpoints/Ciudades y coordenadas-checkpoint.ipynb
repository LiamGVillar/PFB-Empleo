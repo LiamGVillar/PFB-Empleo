{
 "cells": [
  {
   "cell_type": "code",
   "execution_count": 14,
   "id": "40fe068d-b575-4fee-8741-68c3125e0c89",
   "metadata": {},
   "outputs": [],
   "source": [
    "import pandas as pd\n",
    "import numpy as np\n",
    "from geopy.geocoders import Nominatim\n",
    "from time import sleep\n",
    "import os"
   ]
  },
  {
   "cell_type": "code",
   "execution_count": 18,
   "id": "7bedafb1-4f30-4c08-9b16-300121546f61",
   "metadata": {},
   "outputs": [],
   "source": [
    "import os\n",
    "import toml\n",
    "\n",
    "# Verificar el sistema operativo usando os.name\n",
    "if os.name == 'posix':  # Linux, macOS\n",
    "    import mysql.connector  # Usar MySQL en Linux, macOS\n",
    "elif os.name == 'nt':  # Windows\n",
    "    import pymysql  # Usar PyMySQL en Windows\n",
    "else:\n",
    "    raise Exception(\"Sistema operativo no soportado\")\n",
    "\n",
    "# Cargar las credenciales desde el archivo secrets.toml\n",
    "config = toml.load(\"../.streamlit/secrets.toml\")\n",
    "db_config = config[\"database\"]\n",
    "database = db_config[\"database\"]\n",
    "\n",
    "# Conexión a la base de datos dependiendo del sistema operativo\n",
    "if os.name == 'posix':  # Linux/macOS\n",
    "    conn = mysql.connector.connect(\n",
    "        host=db_config[\"host\"],\n",
    "        user=db_config[\"user\"],\n",
    "        password=db_config[\"password\"],\n",
    "        database=database\n",
    "    )\n",
    "elif os.name == 'nt':  # Windows\n",
    "    conn = pymysql.connect(\n",
    "        host=db_config[\"host\"],\n",
    "        user=db_config[\"user\"],\n",
    "        password=db_config[\"password\"],\n",
    "        database=database,\n",
    "        cursorclass=pymysql.cursors.DictCursor)\n",
    "\n",
    "cursor = conn.cursor()\n",
    "\n",
    "# Consulta: Obtener todas las ciudades\n",
    "query_ciudades = \"\"\"\n",
    "SELECT ciudad \n",
    "FROM ciudades_coordenadas;\n",
    "\"\"\"\n",
    "cursor.execute(query_ciudades)\n",
    "\n",
    "# Obtener todas las ciudades en una lista\n",
    "ciudades_originales = [ciudad[0] for ciudad in cursor.fetchall()]\n",
    "\n",
    "# Cerrar la conexión\n",
    "cursor.close()\n",
    "conn.close()"
   ]
  },
  {
   "cell_type": "code",
   "execution_count": 15,
   "id": "e795d481-0c51-4ba1-8c02-614abf0ccd6c",
   "metadata": {},
   "outputs": [],
   "source": [
    "ofertas_nuevas = pd.read_pickle(\"/Pickles/ofertas_nuevas.pkl\")\n",
    "ciudades_nueva_extraccion = ofertas_nuevas[[\"id\", \"ciudad\"]]  # Extraemos las columnas necesarias del DataFrame original"
   ]
  },
  {
   "cell_type": "code",
   "execution_count": 16,
   "id": "3f944c10-e051-4be5-8f64-91f49727ca0d",
   "metadata": {},
   "outputs": [],
   "source": [
    "def split_presencial(row):\n",
    "    # Verificar si \"Presencial\" no es NaN y contiene \"OR\" o \"O\"\n",
    "    if pd.notna(row[\"ciudad\"]) and (\" OR \" in row[\"ciudad\"] or \" O \" in row[\"ciudad\"]):\n",
    "        ciudades = [ciudad.strip() for ciudad in row[\"ciudad\"].replace(\" O \", \" OR \").split(\" OR \")]\n",
    "        return pd.DataFrame({\n",
    "            \"id\": [row[\"id\"]] * len(ciudades),\n",
    "            \"ciudades\": ciudades})\n",
    "    else:\n",
    "        return pd.DataFrame({\"id\": [row[\"id\"]], \"ciudades\": [row[\"ciudad\"]]})\n",
    "\n",
    "# Aplicar la función y concatenamos el resultado\n",
    "ciudades_nuevas = pd.concat(ciudades_nueva_extraccion.apply(split_presencial, axis=1).tolist(), ignore_index=True)\n",
    "ciudades_nuevas[\"ciudades\"] = ciudades_nuevas[\"ciudades\"].apply(lambda x: x.title() if isinstance(x, str) else x)\n",
    "ciudades_nuevas.to_pickle(\"ciudades_nuevas.pkl\")"
   ]
  },
  {
   "cell_type": "code",
   "execution_count": 26,
   "id": "cca363cc-ad15-403e-846a-a7a5535b0993",
   "metadata": {},
   "outputs": [],
   "source": [
    "ciudades_a_procesar = [ciudad for ciudad in ciudades_nuevas[\"ciudades\"].unique()\n",
    "                       if ciudad not in ciudades_originales and pd.notna(ciudad)]\n",
    "\n",
    "def obtener_coordenadas(ciudades_a_procesar):\n",
    "\n",
    "    # Inicializamos el geolocalizador\n",
    "    geolocalizador = Nominatim(user_agent=\"geoapi\")\n",
    "    \n",
    "    # Lista para almacenar los datos\n",
    "    datos = []\n",
    "\n",
    "    for ciudad in ciudades_a_procesar:\n",
    "        try:\n",
    "            ubicacion = geolocalizador.geocode(ciudad, timeout=10, addressdetails=True)\n",
    "            if ubicacion:\n",
    "                direccion = ubicacion.raw.get(\"address\", {})\n",
    "                datos.append({\n",
    "                    \"Ciudad\": ciudad.title(),\n",
    "                    \"País\": direccion.get(\"country\", \"Desconocido\"),\n",
    "                    \"Comunidad Autónoma\": direccion.get(\"state\", \"Desconocido\"),\n",
    "                    \"Latitud\": ubicacion.latitude,\n",
    "                    \"Longitud\": ubicacion.longitude\n",
    "                })\n",
    "            else:\n",
    "                print(f\"No se encontraron coordenadas para: {ciudad}\")\n",
    "            sleep(1)  # Esperar para evitar bloqueos de la API\n",
    "        except Exception as e:\n",
    "            print(f\"Error con {ciudad}: {e}\")\n",
    "\n",
    "    # Convertimos a DataFrame e ignoramos filas con \n",
    "    df = pd.DataFrame(datos).dropna()\n",
    "\n",
    "    # Guardamos en CSV\n",
    "    df.to_pickle(\"/Pickles/ciudades_coordenadas_nuevas\")  \n",
    "    \n",
    "    return df\n",
    "    "
   ]
  },
  {
   "cell_type": "code",
   "execution_count": 27,
   "id": "5b5a2427-649b-489c-8e26-8b73c7ef3bfe",
   "metadata": {},
   "outputs": [
    {
     "data": {
      "text/html": [
       "<div>\n",
       "<style scoped>\n",
       "    .dataframe tbody tr th:only-of-type {\n",
       "        vertical-align: middle;\n",
       "    }\n",
       "\n",
       "    .dataframe tbody tr th {\n",
       "        vertical-align: top;\n",
       "    }\n",
       "\n",
       "    .dataframe thead th {\n",
       "        text-align: right;\n",
       "    }\n",
       "</style>\n",
       "<table border=\"1\" class=\"dataframe\">\n",
       "  <thead>\n",
       "    <tr style=\"text-align: right;\">\n",
       "      <th></th>\n",
       "    </tr>\n",
       "  </thead>\n",
       "  <tbody>\n",
       "  </tbody>\n",
       "</table>\n",
       "</div>"
      ],
      "text/plain": [
       "Empty DataFrame\n",
       "Columns: []\n",
       "Index: []"
      ]
     },
     "execution_count": 27,
     "metadata": {},
     "output_type": "execute_result"
    }
   ],
   "source": [
    "obtener_coordenadas(ciudades_a_procesar)"
   ]
  },
  {
   "cell_type": "code",
   "execution_count": null,
   "id": "fefbfb48-72fa-482e-90eb-9729009f00b0",
   "metadata": {},
   "outputs": [],
   "source": []
  },
  {
   "cell_type": "code",
   "execution_count": null,
   "id": "04e9b4e5-f38a-4959-a206-835608d8a497",
   "metadata": {},
   "outputs": [],
   "source": []
  },
  {
   "cell_type": "code",
   "execution_count": null,
   "id": "6bd0d53d-aaca-407c-bdc2-ef98067c9b9e",
   "metadata": {},
   "outputs": [],
   "source": []
  },
  {
   "cell_type": "code",
   "execution_count": null,
   "id": "ccf8fc5c-ca28-4091-816f-0e3c196ff470",
   "metadata": {},
   "outputs": [],
   "source": []
  },
  {
   "cell_type": "code",
   "execution_count": null,
   "id": "4f0e13d7-8d82-4a90-8c55-10841bb50329",
   "metadata": {},
   "outputs": [],
   "source": []
  },
  {
   "cell_type": "code",
   "execution_count": null,
   "id": "1020c678-d994-4487-b796-56a82f8325fa",
   "metadata": {},
   "outputs": [],
   "source": []
  },
  {
   "cell_type": "code",
   "execution_count": null,
   "id": "7162ecd8-9a47-49c2-8a94-e39aa2501bc5",
   "metadata": {},
   "outputs": [],
   "source": []
  },
  {
   "cell_type": "code",
   "execution_count": null,
   "id": "27810458-1c47-4483-8084-0b50a4950130",
   "metadata": {},
   "outputs": [],
   "source": []
  },
  {
   "cell_type": "code",
   "execution_count": null,
   "id": "0ab13a88-7bfe-445c-8638-f03687da2d58",
   "metadata": {},
   "outputs": [],
   "source": []
  },
  {
   "cell_type": "code",
   "execution_count": null,
   "id": "b5e71fee-7277-4621-9ca7-6792f1a52c4a",
   "metadata": {},
   "outputs": [],
   "source": []
  },
  {
   "cell_type": "code",
   "execution_count": null,
   "id": "b7ea5b89-e76c-4dfe-9286-33cda777de1d",
   "metadata": {},
   "outputs": [],
   "source": []
  },
  {
   "cell_type": "code",
   "execution_count": null,
   "id": "adffe5f2-14c7-4414-bdeb-189851ee36cf",
   "metadata": {},
   "outputs": [],
   "source": []
  },
  {
   "cell_type": "code",
   "execution_count": null,
   "id": "726b277b-71c3-46b4-a608-f6c98704eac3",
   "metadata": {},
   "outputs": [],
   "source": []
  },
  {
   "cell_type": "code",
   "execution_count": null,
   "id": "849cc39e-acc4-4afa-bc18-686512e4fa64",
   "metadata": {},
   "outputs": [],
   "source": []
  }
 ],
 "metadata": {
  "kernelspec": {
   "display_name": "Python 3 (ipykernel)",
   "language": "python",
   "name": "python3"
  },
  "language_info": {
   "codemirror_mode": {
    "name": "ipython",
    "version": 3
   },
   "file_extension": ".py",
   "mimetype": "text/x-python",
   "name": "python",
   "nbconvert_exporter": "python",
   "pygments_lexer": "ipython3",
   "version": "3.12.7"
  }
 },
 "nbformat": 4,
 "nbformat_minor": 5
}
